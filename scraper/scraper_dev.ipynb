{
 "cells": [
  {
   "cell_type": "markdown",
   "metadata": {},
   "source": [
    "# Yelp Scraper Part I\n",
    "\n",
    "Development notebook for business URI search and lens enhancement engine."
   ]
  },
  {
   "cell_type": "markdown",
   "metadata": {},
   "source": [
    "## Database Setup\n",
    "\n",
    "Rather than attempt to keep information globally shared between modules database or messenger/caching services will be used.  For V0.1, an sqlilte implementation is planned.  "
   ]
  },
  {
   "cell_type": "code",
   "execution_count": null,
   "metadata": {},
   "outputs": [],
   "source": [
    "# Initialize Database\n",
    "from db import get_db, get_session, init_db\n",
    "\n",
    "init_db()  # Creates tables/relationships"
   ]
  },
  {
   "cell_type": "markdown",
   "metadata": {},
   "source": [
    "## Yelp Fusion Client\n",
    "\n",
    "This module uses the yelpapi library to manage connections and requests to Yelp's Fusion API."
   ]
  },
  {
   "cell_type": "code",
   "execution_count": 3,
   "metadata": {},
   "outputs": [
    {
     "name": "stdout",
     "output_type": "stream",
     "text": [
      "Environment variables set.\n"
     ]
    }
   ],
   "source": [
    "from scraper_1_urls import load_environment, get_client\n",
    "\n",
    "load_environment(from_file=True)\n",
    "client = get_client()"
   ]
  },
  {
   "cell_type": "code",
   "execution_count": null,
   "metadata": {},
   "outputs": [],
   "source": []
  },
  {
   "cell_type": "markdown",
   "metadata": {},
   "source": [
    "## Lens\n",
    "\n",
    "Lens is a handler of simple perceptron networks whose goal it is to create predictions (forward passes) of expected number of businesses within an area.  The Yelp API will only give a maxiumum of 50 businesses per search.  Lens helps tune the jump distance as the scraper adjusts longitude and lattitude while searching.\n",
    "\n",
    "Two approaches will be investigated:\n",
    "\n",
    "1. Attempt to predict the number of businesses in a given area.\n",
    "\n",
    "2. Attempt to predict the number of NEW businesses in a given area.\n",
    "\n",
    "V0.1 will look at the first strategy."
   ]
  },
  {
   "cell_type": "code",
   "execution_count": 1,
   "metadata": {},
   "outputs": [],
   "source": [
    "from lens import fastmap"
   ]
  },
  {
   "cell_type": "markdown",
   "metadata": {},
   "source": [
    "### Create, train, and update a perceptron\n",
    "\n",
    "The layer initialization step can be skipped by passing in a new y-vector (in our case, updated data from nearby zones.\n",
    "\n",
    "> V0.1 will not use update as some type of copy_on_complete mechanism will be needed.  More logic to ensure that the quality, relations of and in y_train don't deviate significantly.  Otherwise, more training may have to be done to 'undo' bad weights. "
   ]
  },
  {
   "cell_type": "code",
   "execution_count": 2,
   "metadata": {},
   "outputs": [],
   "source": [
    "# Test Data\n",
    "import numpy as np\n",
    "X=np.array([[0,1,2], [3,4,5], [6,7,8]])\n",
    "y=np.array([0.5,0.65,1])\n",
    "\n",
    "model_map = fastmap.ModelMap()"
   ]
  },
  {
   "cell_type": "code",
   "execution_count": 3,
   "metadata": {},
   "outputs": [
    {
     "data": {
      "text/plain": [
       "{'geohash': 'set3f8vk6wjr', 'file_location': '/tmp/set3f8vk6wjr.pkl'}"
      ]
     },
     "execution_count": 3,
     "metadata": {},
     "output_type": "execute_result"
    }
   ],
   "source": [
    "model_map.pin_model(X, y, (20,30))"
   ]
  },
  {
   "cell_type": "code",
   "execution_count": null,
   "metadata": {},
   "outputs": [],
   "source": []
  },
  {
   "cell_type": "markdown",
   "metadata": {},
   "source": [
    "**At this point,** the model is ready for use.  The returned information needs to be stored so predictions can be called when needed."
   ]
  },
  {
   "cell_type": "markdown",
   "metadata": {},
   "source": [
    "## Get All Categories by Country\n",
    "\n",
    "To help limit and organize the search, as well as provide better data to Lens as the search progresses, we will search by category in each direction (scraper path).\n",
    "\n",
    "Yelp provides a json download with all their categories [here](https://www.yelp.com/developers/documentation/v3/all_category_list/categories.json)"
   ]
  },
  {
   "cell_type": "code",
   "execution_count": 1,
   "metadata": {},
   "outputs": [],
   "source": [
    "# Load data\n",
    "import json\n",
    "\n",
    "with open('categories.json', 'r') as file:\n",
    "    categories = json.load(file)"
   ]
  },
  {
   "cell_type": "code",
   "execution_count": 2,
   "metadata": {},
   "outputs": [
    {
     "data": {
      "text/plain": [
       "1565"
      ]
     },
     "execution_count": 2,
     "metadata": {},
     "output_type": "execute_result"
    }
   ],
   "source": [
    "len(categories)"
   ]
  },
  {
   "cell_type": "code",
   "execution_count": 22,
   "metadata": {},
   "outputs": [],
   "source": [
    "# Get all parent categories\n",
    "def get_countries(category):\n",
    "    if 'country_whitelist' in category.keys():\n",
    "        countries = category['country_whitelist']\n",
    "        return countries\n",
    "    return ['ALL']\n",
    "\n",
    "def get_parents(category):\n",
    "    parent = category['parents']\n",
    "    parents = []\n",
    "    if len(parent) > 1:\n",
    "        for item in parent:\n",
    "            if type(item) == str:\n",
    "                parents.append(item)\n",
    "    elif len(parent) == 1:\n",
    "            parents.append(parent[0])\n",
    "    return parents\n",
    "\n",
    "countries = list(map(get_countries, categories))\n",
    "parents = list(map(get_parents, categories))\n",
    "data = {'parent':parents, 'country':countries}"
   ]
  },
  {
   "cell_type": "code",
   "execution_count": 23,
   "metadata": {},
   "outputs": [
    {
     "data": {
      "text/html": [
       "<div>\n",
       "<style scoped>\n",
       "    .dataframe tbody tr th:only-of-type {\n",
       "        vertical-align: middle;\n",
       "    }\n",
       "\n",
       "    .dataframe tbody tr th {\n",
       "        vertical-align: top;\n",
       "    }\n",
       "\n",
       "    .dataframe thead th {\n",
       "        text-align: right;\n",
       "    }\n",
       "</style>\n",
       "<table border=\"1\" class=\"dataframe\">\n",
       "  <thead>\n",
       "    <tr style=\"text-align: right;\">\n",
       "      <th></th>\n",
       "      <th>parent</th>\n",
       "      <th>country</th>\n",
       "    </tr>\n",
       "  </thead>\n",
       "  <tbody>\n",
       "    <tr>\n",
       "      <th>0</th>\n",
       "      <td>[localservices]</td>\n",
       "      <td>[ALL]</td>\n",
       "    </tr>\n",
       "    <tr>\n",
       "      <th>1</th>\n",
       "      <td>[italian]</td>\n",
       "      <td>[IT]</td>\n",
       "    </tr>\n",
       "    <tr>\n",
       "      <th>2</th>\n",
       "      <td>[bars]</td>\n",
       "      <td>[CZ]</td>\n",
       "    </tr>\n",
       "    <tr>\n",
       "      <th>3</th>\n",
       "      <td>[food]</td>\n",
       "      <td>[ALL]</td>\n",
       "    </tr>\n",
       "    <tr>\n",
       "      <th>4</th>\n",
       "      <td>[fashion]</td>\n",
       "      <td>[ALL]</td>\n",
       "    </tr>\n",
       "  </tbody>\n",
       "</table>\n",
       "</div>"
      ],
      "text/plain": [
       "            parent country\n",
       "0  [localservices]   [ALL]\n",
       "1        [italian]    [IT]\n",
       "2           [bars]    [CZ]\n",
       "3           [food]   [ALL]\n",
       "4        [fashion]   [ALL]"
      ]
     },
     "execution_count": 23,
     "metadata": {},
     "output_type": "execute_result"
    }
   ],
   "source": [
    "# Build a dataframe with parent data for starters\n",
    "import pandas as pd\n",
    "\n",
    "df = pd.DataFrame(data=data)\n",
    "df.head(5)"
   ]
  },
  {
   "cell_type": "code",
   "execution_count": 24,
   "metadata": {
    "scrolled": true
   },
   "outputs": [
    {
     "data": {
      "text/html": [
       "<div>\n",
       "<style scoped>\n",
       "    .dataframe tbody tr th:only-of-type {\n",
       "        vertical-align: middle;\n",
       "    }\n",
       "\n",
       "    .dataframe tbody tr th {\n",
       "        vertical-align: top;\n",
       "    }\n",
       "\n",
       "    .dataframe thead th {\n",
       "        text-align: right;\n",
       "    }\n",
       "</style>\n",
       "<table border=\"1\" class=\"dataframe\">\n",
       "  <thead>\n",
       "    <tr style=\"text-align: right;\">\n",
       "      <th></th>\n",
       "      <th>parent</th>\n",
       "      <th>country</th>\n",
       "    </tr>\n",
       "  </thead>\n",
       "  <tbody>\n",
       "    <tr>\n",
       "      <th>0</th>\n",
       "      <td>localservices</td>\n",
       "      <td>ALL</td>\n",
       "    </tr>\n",
       "    <tr>\n",
       "      <th>1</th>\n",
       "      <td>italian</td>\n",
       "      <td>IT</td>\n",
       "    </tr>\n",
       "    <tr>\n",
       "      <th>2</th>\n",
       "      <td>bars</td>\n",
       "      <td>CZ</td>\n",
       "    </tr>\n",
       "    <tr>\n",
       "      <th>3</th>\n",
       "      <td>food</td>\n",
       "      <td>ALL</td>\n",
       "    </tr>\n",
       "    <tr>\n",
       "      <th>4</th>\n",
       "      <td>fashion</td>\n",
       "      <td>ALL</td>\n",
       "    </tr>\n",
       "  </tbody>\n",
       "</table>\n",
       "</div>"
      ],
      "text/plain": [
       "          parent country\n",
       "0  localservices     ALL\n",
       "1        italian      IT\n",
       "2           bars      CZ\n",
       "3           food     ALL\n",
       "4        fashion     ALL"
      ]
     },
     "metadata": {},
     "output_type": "display_data"
    },
    {
     "data": {
      "text/html": [
       "<div>\n",
       "<style scoped>\n",
       "    .dataframe tbody tr th:only-of-type {\n",
       "        vertical-align: middle;\n",
       "    }\n",
       "\n",
       "    .dataframe tbody tr th {\n",
       "        vertical-align: top;\n",
       "    }\n",
       "\n",
       "    .dataframe thead th {\n",
       "        text-align: right;\n",
       "    }\n",
       "</style>\n",
       "<table border=\"1\" class=\"dataframe\">\n",
       "  <thead>\n",
       "    <tr style=\"text-align: right;\">\n",
       "      <th></th>\n",
       "      <th>parent</th>\n",
       "      <th>country</th>\n",
       "    </tr>\n",
       "  </thead>\n",
       "  <tbody>\n",
       "    <tr>\n",
       "      <th>count</th>\n",
       "      <td>4102</td>\n",
       "      <td>4127</td>\n",
       "    </tr>\n",
       "    <tr>\n",
       "      <th>unique</th>\n",
       "      <td>121</td>\n",
       "      <td>34</td>\n",
       "    </tr>\n",
       "    <tr>\n",
       "      <th>top</th>\n",
       "      <td>restaurants</td>\n",
       "      <td>ALL</td>\n",
       "    </tr>\n",
       "    <tr>\n",
       "      <th>freq</th>\n",
       "      <td>502</td>\n",
       "      <td>1084</td>\n",
       "    </tr>\n",
       "  </tbody>\n",
       "</table>\n",
       "</div>"
      ],
      "text/plain": [
       "             parent country\n",
       "count          4102    4127\n",
       "unique          121      34\n",
       "top     restaurants     ALL\n",
       "freq            502    1084"
      ]
     },
     "metadata": {},
     "output_type": "display_data"
    }
   ],
   "source": [
    "# Explode each column\n",
    "df = df.explode('parent')\n",
    "df = df.explode('country')\n",
    "display(df.head(), df.describe())"
   ]
  },
  {
   "cell_type": "code",
   "execution_count": 28,
   "metadata": {},
   "outputs": [
    {
     "data": {
      "text/html": [
       "<div>\n",
       "<style scoped>\n",
       "    .dataframe tbody tr th:only-of-type {\n",
       "        vertical-align: middle;\n",
       "    }\n",
       "\n",
       "    .dataframe tbody tr th {\n",
       "        vertical-align: top;\n",
       "    }\n",
       "\n",
       "    .dataframe thead th {\n",
       "        text-align: right;\n",
       "    }\n",
       "</style>\n",
       "<table border=\"1\" class=\"dataframe\">\n",
       "  <thead>\n",
       "    <tr style=\"text-align: right;\">\n",
       "      <th></th>\n",
       "      <th>parent</th>\n",
       "      <th>country</th>\n",
       "    </tr>\n",
       "  </thead>\n",
       "  <tbody>\n",
       "    <tr>\n",
       "      <th>count</th>\n",
       "      <td>4102</td>\n",
       "      <td>4102</td>\n",
       "    </tr>\n",
       "    <tr>\n",
       "      <th>unique</th>\n",
       "      <td>121</td>\n",
       "      <td>34</td>\n",
       "    </tr>\n",
       "    <tr>\n",
       "      <th>top</th>\n",
       "      <td>restaurants</td>\n",
       "      <td>ALL</td>\n",
       "    </tr>\n",
       "    <tr>\n",
       "      <th>freq</th>\n",
       "      <td>502</td>\n",
       "      <td>1063</td>\n",
       "    </tr>\n",
       "  </tbody>\n",
       "</table>\n",
       "</div>"
      ],
      "text/plain": [
       "             parent country\n",
       "count          4102    4102\n",
       "unique          121      34\n",
       "top     restaurants     ALL\n",
       "freq            502    1063"
      ]
     },
     "execution_count": 28,
     "metadata": {},
     "output_type": "execute_result"
    }
   ],
   "source": [
    "# Clean data\n",
    "df = df.dropna()\n",
    "df.describe()"
   ]
  },
  {
   "cell_type": "code",
   "execution_count": 36,
   "metadata": {},
   "outputs": [
    {
     "name": "stdout",
     "output_type": "stream",
     "text": [
      "\r",
      "parent_categories_by_country.json  157156 / 157156.0  (100.00%)"
     ]
    }
   ],
   "source": [
    "# Save Data\n",
    "from awstools import s3\n",
    "\n",
    "# Setup bucket link to AWS\n",
    "bucket = s3.Bucket('yelp-data-shared-labs18')\n",
    "\n",
    "# Save locally\n",
    "filename = 'parent_categories_by_country.json'\n",
    "df.to_json(filename, orient='records')\n",
    "\n",
    "# Upload to S3 bucket\n",
    "bucket.save(filename, 'Tables/'+filename)"
   ]
  },
  {
   "cell_type": "code",
   "execution_count": 3,
   "metadata": {},
   "outputs": [
    {
     "data": {
      "text/plain": [
       "['cannabis_clinics', 'restaurants', 'wholesalers', 'food', 'photographers']"
      ]
     },
     "execution_count": 3,
     "metadata": {},
     "output_type": "execute_result"
    }
   ],
   "source": [
    "# Get categories table from s3\n",
    "from awstools import s3\n",
    "bucket = s3.Bucket('yelp-data-shared-labs18')\n",
    "bucket.get('Tables/parent_categories_by_country.json', 'parent_cat.json')\n",
    "\n",
    "# Load json into dataframe and filter\n",
    "import pandas as pd\n",
    "cats = pd.read_json('parent_cat.json')\n",
    "us_cats = set( # Set will maintain only distinct items\n",
    "    cats.query('country == \"US\"').parent # Query dataframe and get series\n",
    ")\n",
    "us_cats = list(us_cats)  # sets are not subscriptable. cast to list.\n",
    "us_cats[0:5]"
   ]
  },
  {
   "cell_type": "markdown",
   "metadata": {},
   "source": [
    "## Scrape Category by (lat, lon)\n",
    "\n",
    "Now that categories can be searched indvidually, effectively filtering result streams (and allowing larger hops in category), we can test the yelpfusion api with an example search in the form:\n",
    "\n",
    "query(category=category, latitude=lat, longitude=lon, limit=limit)"
   ]
  },
  {
   "cell_type": "code",
   "execution_count": 2,
   "metadata": {},
   "outputs": [
    {
     "name": "stdout",
     "output_type": "stream",
     "text": [
      "Environment variables set.\n"
     ]
    }
   ],
   "source": [
    "from scraper_1_urls import load_environment, get_client\n",
    "\n",
    "load_environment(from_file=True)\n",
    "client = get_client()"
   ]
  },
  {
   "cell_type": "code",
   "execution_count": 6,
   "metadata": {},
   "outputs": [],
   "source": [
    "# Example location (san francisco)\n",
    "lat = 37.7739\n",
    "lon = -122.431297\n",
    "category = 'cannabis_clinics'\n",
    "\n",
    "search_results = client.search_query(categories=category, latitude=lat, longitude=lon)"
   ]
  },
  {
   "cell_type": "markdown",
   "metadata": {},
   "source": [
    "## Data Cleaning and Storage\n",
    "\n",
    "In situ cleaning and storage in a local database prior writing to the RDS instance happens in two three.\n",
    "\n",
    "1. The data cleaned and dumped into a pandas dataframe.\n",
    "2. Each id is checked against the local database of collected businesses for unique ID.\n",
    "3. Unique elements are written to the database and the dataframe is overwritten by the next search."
   ]
  },
  {
   "cell_type": "code",
   "execution_count": 13,
   "metadata": {},
   "outputs": [
    {
     "data": {
      "text/html": [
       "<div>\n",
       "<style scoped>\n",
       "    .dataframe tbody tr th:only-of-type {\n",
       "        vertical-align: middle;\n",
       "    }\n",
       "\n",
       "    .dataframe tbody tr th {\n",
       "        vertical-align: top;\n",
       "    }\n",
       "\n",
       "    .dataframe thead th {\n",
       "        text-align: right;\n",
       "    }\n",
       "</style>\n",
       "<table border=\"1\" class=\"dataframe\">\n",
       "  <thead>\n",
       "    <tr style=\"text-align: right;\">\n",
       "      <th></th>\n",
       "      <th>id</th>\n",
       "      <th>alias</th>\n",
       "      <th>name</th>\n",
       "      <th>image_url</th>\n",
       "      <th>is_closed</th>\n",
       "      <th>url</th>\n",
       "      <th>review_count</th>\n",
       "      <th>categories</th>\n",
       "      <th>rating</th>\n",
       "      <th>coordinates</th>\n",
       "      <th>transactions</th>\n",
       "      <th>location</th>\n",
       "      <th>phone</th>\n",
       "      <th>display_phone</th>\n",
       "      <th>distance</th>\n",
       "    </tr>\n",
       "  </thead>\n",
       "  <tbody>\n",
       "    <tr>\n",
       "      <th>0</th>\n",
       "      <td>mOanZdaJQu4pBKAJShtHrA</td>\n",
       "      <td>foggy-daze-delivery-service-san-francisco</td>\n",
       "      <td>Foggy Daze Delivery Service</td>\n",
       "      <td>https://s3-media4.fl.yelpcdn.com/bphoto/CH_qJY...</td>\n",
       "      <td>False</td>\n",
       "      <td>https://www.yelp.com/biz/foggy-daze-delivery-s...</td>\n",
       "      <td>134</td>\n",
       "      <td>[{'alias': 'cannabis_clinics', 'title': 'Canna...</td>\n",
       "      <td>5.0</td>\n",
       "      <td>{'latitude': 37.76468, 'longitude': -122.43193}</td>\n",
       "      <td>[]</td>\n",
       "      <td>{'address1': '2261 Market St', 'address2': 'St...</td>\n",
       "      <td>+14152007451</td>\n",
       "      <td>(415) 200-7451</td>\n",
       "      <td>1022.487674</td>\n",
       "    </tr>\n",
       "  </tbody>\n",
       "</table>\n",
       "</div>"
      ],
      "text/plain": [
       "                       id                                      alias  \\\n",
       "0  mOanZdaJQu4pBKAJShtHrA  foggy-daze-delivery-service-san-francisco   \n",
       "\n",
       "                          name  \\\n",
       "0  Foggy Daze Delivery Service   \n",
       "\n",
       "                                           image_url  is_closed  \\\n",
       "0  https://s3-media4.fl.yelpcdn.com/bphoto/CH_qJY...      False   \n",
       "\n",
       "                                                 url  review_count  \\\n",
       "0  https://www.yelp.com/biz/foggy-daze-delivery-s...           134   \n",
       "\n",
       "                                          categories  rating  \\\n",
       "0  [{'alias': 'cannabis_clinics', 'title': 'Canna...     5.0   \n",
       "\n",
       "                                       coordinates transactions  \\\n",
       "0  {'latitude': 37.76468, 'longitude': -122.43193}           []   \n",
       "\n",
       "                                            location         phone  \\\n",
       "0  {'address1': '2261 Market St', 'address2': 'St...  +14152007451   \n",
       "\n",
       "    display_phone     distance  \n",
       "0  (415) 200-7451  1022.487674  "
      ]
     },
     "metadata": {},
     "output_type": "display_data"
    },
    {
     "data": {
      "text/plain": [
       "Index(['id', 'alias', 'name', 'image_url', 'is_closed', 'url', 'review_count',\n",
       "       'categories', 'rating', 'coordinates', 'transactions', 'location',\n",
       "       'phone', 'display_phone', 'distance'],\n",
       "      dtype='object')"
      ]
     },
     "metadata": {},
     "output_type": "display_data"
    }
   ],
   "source": [
    "# Dump to dataframe\n",
    "df = pd.DataFrame(search_results['businesses'])\n",
    "display(df.head(1), df.columns)"
   ]
  },
  {
   "cell_type": "code",
   "execution_count": 68,
   "metadata": {},
   "outputs": [
    {
     "data": {
      "text/html": [
       "<div>\n",
       "<style scoped>\n",
       "    .dataframe tbody tr th:only-of-type {\n",
       "        vertical-align: middle;\n",
       "    }\n",
       "\n",
       "    .dataframe tbody tr th {\n",
       "        vertical-align: top;\n",
       "    }\n",
       "\n",
       "    .dataframe thead th {\n",
       "        text-align: right;\n",
       "    }\n",
       "</style>\n",
       "<table border=\"1\" class=\"dataframe\">\n",
       "  <thead>\n",
       "    <tr style=\"text-align: right;\">\n",
       "      <th></th>\n",
       "      <th>business_id</th>\n",
       "      <th>name</th>\n",
       "      <th>image_url</th>\n",
       "      <th>review_count</th>\n",
       "      <th>url</th>\n",
       "      <th>categories</th>\n",
       "      <th>is_open</th>\n",
       "      <th>address</th>\n",
       "      <th>city</th>\n",
       "      <th>state</th>\n",
       "      <th>postal_code</th>\n",
       "      <th>latitude</th>\n",
       "      <th>longitude</th>\n",
       "    </tr>\n",
       "  </thead>\n",
       "  <tbody>\n",
       "    <tr>\n",
       "      <th>0</th>\n",
       "      <td>mOanZdaJQu4pBKAJShtHrA</td>\n",
       "      <td>Foggy Daze Delivery Service</td>\n",
       "      <td>https://s3-media4.fl.yelpcdn.com/bphoto/CH_qJY...</td>\n",
       "      <td>134</td>\n",
       "      <td>https://www.yelp.com/biz/foggy-daze-delivery-s...</td>\n",
       "      <td>cannabis_clinics</td>\n",
       "      <td>True</td>\n",
       "      <td>2261 Market StSte 289</td>\n",
       "      <td>San Francisco</td>\n",
       "      <td>CA</td>\n",
       "      <td>94114</td>\n",
       "      <td>37.76468</td>\n",
       "      <td>-122.43193</td>\n",
       "    </tr>\n",
       "  </tbody>\n",
       "</table>\n",
       "</div>"
      ],
      "text/plain": [
       "              business_id                         name  \\\n",
       "0  mOanZdaJQu4pBKAJShtHrA  Foggy Daze Delivery Service   \n",
       "\n",
       "                                           image_url  review_count  \\\n",
       "0  https://s3-media4.fl.yelpcdn.com/bphoto/CH_qJY...           134   \n",
       "\n",
       "                                                 url        categories  \\\n",
       "0  https://www.yelp.com/biz/foggy-daze-delivery-s...  cannabis_clinics   \n",
       "\n",
       "   is_open                address           city state postal_code  latitude  \\\n",
       "0     True  2261 Market StSte 289  San Francisco    CA       94114  37.76468   \n",
       "\n",
       "   longitude  \n",
       "0 -122.43193  "
      ]
     },
     "execution_count": 68,
     "metadata": {},
     "output_type": "execute_result"
    }
   ],
   "source": [
    "# Building a cleaning function for searches\n",
    "\n",
    "def clean_business_search(df: pd.DataFrame):\n",
    "    temp = df.copy()\n",
    "    # Filter and Rename Columns\n",
    "    temp = df.filter(['id', 'name', 'image_url', 'coordinates', \\\n",
    "                      'review_count', 'is_closed', 'url', 'categories',\\\n",
    "                      'location', 'rating'])\n",
    "    temp = temp.rename(columns={'id':'business_id', 'rating': 'stars'})\n",
    "    \n",
    "    # change is_closed to is_open (flip bool)\n",
    "    temp['is_open'] = temp.is_closed.apply(lambda x: not x)\n",
    "    temp = temp.drop(columns='is_closed')\n",
    "    \n",
    "    # parse location to address, city, state, postal_code\n",
    "    temp['address'] = temp.location.apply(lambda x: x['address1']+str(x['address2']))\n",
    "    temp['city'] = temp.location.apply(lambda x: x['city'])\n",
    "    temp['state'] = temp.location.apply(lambda x: x['state'])\n",
    "    temp['postal_code'] = temp.location.apply(lambda x: x['zip_code'])\n",
    "    temp = temp.drop(columns='location')\n",
    "    \n",
    "    # clean categories down to alias (more similar to parent search)\n",
    "    temp.categories = temp.categories.apply(lambda x: ','.join([z['alias'] for z in x]))\n",
    "    \n",
    "    # parse coordinates\n",
    "    temp['latitude'] = temp.coordinates.apply(lambda x: x['latitude'])\n",
    "    temp['longitude'] = temp.coordinates.apply(lambda x: x['longitude'])\n",
    "    temp = temp.drop(columns='coordinates')\n",
    "    \n",
    "    return temp\n",
    "\n",
    "clean_business_search(df).head(1)"
   ]
  },
  {
   "cell_type": "markdown",
   "metadata": {},
   "source": [
    "### Test Search Pipeline\n",
    "\n",
    "Test the search interface"
   ]
  },
  {
   "cell_type": "code",
   "execution_count": 2,
   "metadata": {},
   "outputs": [
    {
     "name": "stdout",
     "output_type": "stream",
     "text": [
      "Environment variables set.\n"
     ]
    }
   ],
   "source": [
    "from scraper_1_urls import search\n",
    "\n",
    "# Example location (san francisco)\n",
    "lat = 37.7739\n",
    "lon = -122.431297\n",
    "category = 'cannabis_clinics'\n",
    "\n",
    "results = search(latitude=lat, longitude=lon, category=category)"
   ]
  },
  {
   "cell_type": "markdown",
   "metadata": {},
   "source": [
    "### Write to database\n",
    "\n",
    "Export dataframe to database"
   ]
  },
  {
   "cell_type": "code",
   "execution_count": 3,
   "metadata": {},
   "outputs": [],
   "source": [
    "from db import get_session\n",
    "from models import *\n",
    "\n",
    "with get_session() as session:\n",
    "    for record in results.to_dict(orient='r'):\n",
    "        session.add(Business(**record))\n",
    "    \n",
    "    session.commit()\n",
    "    session.close()"
   ]
  },
  {
   "cell_type": "markdown",
   "metadata": {},
   "source": [
    "### Filter for unique adds\n",
    "\n",
    "Must obey primary key unique constraint.  Will also return the total number of unique hits for predicting hop distance!"
   ]
  },
  {
   "cell_type": "code",
   "execution_count": 17,
   "metadata": {},
   "outputs": [],
   "source": [
    "def filter_unique(raw_frame):\n",
    "    ## Check if id existing, if exists: drop, else keep\n",
    "    raw_frame['exists'] = raw_frame.business_id.apply(check_exists)\n",
    "    \n",
    "    return raw_frame.query('exists == False')\n",
    "\n",
    "def check_exists(x):\n",
    "    # Check if business_id already in database\n",
    "    with get_session() as session:\n",
    "        exists = session.query(Business.business_id).filter(\n",
    "            Business.business_id == x\n",
    "        ).scalar()\n",
    "        \n",
    "    if exists:\n",
    "        return True\n",
    "    else:\n",
    "        return False"
   ]
  },
  {
   "cell_type": "code",
   "execution_count": 18,
   "metadata": {},
   "outputs": [
    {
     "data": {
      "text/html": [
       "<div>\n",
       "<style scoped>\n",
       "    .dataframe tbody tr th:only-of-type {\n",
       "        vertical-align: middle;\n",
       "    }\n",
       "\n",
       "    .dataframe tbody tr th {\n",
       "        vertical-align: top;\n",
       "    }\n",
       "\n",
       "    .dataframe thead th {\n",
       "        text-align: right;\n",
       "    }\n",
       "</style>\n",
       "<table border=\"1\" class=\"dataframe\">\n",
       "  <thead>\n",
       "    <tr style=\"text-align: right;\">\n",
       "      <th></th>\n",
       "      <th>business_id</th>\n",
       "      <th>name</th>\n",
       "      <th>image_url</th>\n",
       "      <th>review_count</th>\n",
       "      <th>url</th>\n",
       "      <th>categories</th>\n",
       "      <th>stars</th>\n",
       "      <th>is_open</th>\n",
       "      <th>address</th>\n",
       "      <th>city</th>\n",
       "      <th>state</th>\n",
       "      <th>postal_code</th>\n",
       "      <th>latitude</th>\n",
       "      <th>longitude</th>\n",
       "      <th>exists</th>\n",
       "    </tr>\n",
       "  </thead>\n",
       "  <tbody>\n",
       "  </tbody>\n",
       "</table>\n",
       "</div>"
      ],
      "text/plain": [
       "Empty DataFrame\n",
       "Columns: [business_id, name, image_url, review_count, url, categories, stars, is_open, address, city, state, postal_code, latitude, longitude, exists]\n",
       "Index: []"
      ]
     },
     "execution_count": 18,
     "metadata": {},
     "output_type": "execute_result"
    }
   ],
   "source": [
    "filter_unique(results)"
   ]
  },
  {
   "cell_type": "code",
   "execution_count": 19,
   "metadata": {},
   "outputs": [
    {
     "data": {
      "text/plain": [
       "False"
      ]
     },
     "execution_count": 19,
     "metadata": {},
     "output_type": "execute_result"
    }
   ],
   "source": [
    "check_exists('somerandomid') # Check false"
   ]
  },
  {
   "cell_type": "markdown",
   "metadata": {},
   "source": [
    "### Save Results\n",
    "\n",
    "Save number of unique results and category to table for training"
   ]
  },
  {
   "cell_type": "code",
   "execution_count": null,
   "metadata": {},
   "outputs": [],
   "source": [
    "def write_search_metadata(**kwargs):\n",
    "    with get_session() as session:\n",
    "        session.add(SearchResults(**kwargs['record']))"
   ]
  },
  {
   "cell_type": "code",
   "execution_count": 5,
   "metadata": {},
   "outputs": [],
   "source": [
    "# Test with scraper class\n",
    "from app import create_scraper\n",
    "\n",
    "# Example location (san francisco + .1)\n",
    "lat = 37.6739\n",
    "lon = -122.531297\n",
    "category = 'cannabis_clinics'\n",
    "\n",
    "scraper = create_scraper(\n",
    "    city=None,\n",
    "    radius=100,\n",
    "    category=category, \n",
    "    coordinates=(lat, lon)\n",
    ")"
   ]
  },
  {
   "cell_type": "code",
   "execution_count": 6,
   "metadata": {},
   "outputs": [],
   "source": [
    "scraper.search()"
   ]
  },
  {
   "cell_type": "markdown",
   "metadata": {},
   "source": [
    "## Create ModelMap (Lens)\n",
    "\n",
    "From center point and given radius, create static perceptron distribution. \n",
    "\n",
    "> Overlap required.  Search will choose model with most data available for training"
   ]
  },
  {
   "cell_type": "markdown",
   "metadata": {},
   "source": [
    "#### Create Grid\n",
    "\n",
    "Create a 2d square matrix of coordinates.\n",
    "\n",
    "X,Y Square matrix of points where:\n",
    "\n",
    "> X + Y = 2 * 2 * max_radius\n",
    "\n",
    "> num_nodes = round(X/point_radius) **round up**\n",
    "\n",
    "> dist = X / num_nodes\n",
    "\n",
    "> total_num_nodes = num_nodes^2"
   ]
  },
  {
   "cell_type": "code",
   "execution_count": 133,
   "metadata": {},
   "outputs": [],
   "source": [
    "from math import ceil\n",
    "import numpy as np\n",
    "\n",
    "\n",
    "def get_grid_coord(c_lat, c_lon, point_radius, max_radius):\n",
    "    num_nodes_row = calc_nodes_per_row(point_radius=point_radius, max_radius=max_radius)\n",
    "    \n",
    "    latitudes = generate_row(center=c_lat, point_radius=point_radius, max_radius=max_radius)\n",
    "    longitudes = generate_row(center=c_lon, point_radius=point_radius, max_radius=max_radius)\n",
    "    \n",
    "    rows = []\n",
    "    for latitude in latitudes:\n",
    "        rows += list(zip(longitudes, [latitude]*len(longitudes)))\n",
    "        \n",
    "    return rows\n",
    "\n",
    "\n",
    "def calc_nodes_per_row(point_radius, max_radius):\n",
    "    X = 2 * max_radius # X = Y; square matrix\n",
    "    num_nodes_per_row = int(ceil(X/point_radius)) # no partial nodes, must be odd number\n",
    "    if num_nodes_per_row % 2 == 0:\n",
    "        num_nodes_per_row += 1\n",
    "    return num_nodes_per_row\n",
    "\n",
    "\n",
    "def calc_distance_between_nodes(num_nodes, max_radius, scale_factor=1):\n",
    "    return max_radius/(num_nodes-1) * scale_factor\n",
    "\n",
    "\n",
    "def generate_row(center, point_radius, max_radius):\n",
    "    num_nodes = calc_nodes_per_row(point_radius=point_radius, max_radius=max_radius)\n",
    "    \n",
    "    # Validate that point-radius > dist\n",
    "    dist = calc_distance_between_nodes(num_nodes=num_nodes, max_radius=max_radius)\n",
    "    assert point_radius > dist\n",
    "    \n",
    "    left = center - max_radius/2\n",
    "    right = center + max_radius/2\n",
    "    row = np.linspace(left, right, num_nodes)\n",
    "    # Validate that longitude_vector same length = num_nodes\n",
    "    assert len(row) == num_nodes\n",
    "    return row\n",
    "\n",
    "# can approach this a couple ways.  One would be to get the two midlines\n",
    "#    and use the points above and below the center (Y>0, Y<0) to make more lateral rows."
   ]
  },
  {
   "cell_type": "code",
   "execution_count": 135,
   "metadata": {},
   "outputs": [
    {
     "data": {
      "text/plain": [
       "[(30.5, 29.5),\n",
       " (30.75, 29.5),\n",
       " (31.0, 29.5),\n",
       " (31.25, 29.5),\n",
       " (31.5, 29.5),\n",
       " (30.5, 29.75),\n",
       " (30.75, 29.75),\n",
       " (31.0, 29.75),\n",
       " (31.25, 29.75),\n",
       " (31.5, 29.75),\n",
       " (30.5, 30.0),\n",
       " (30.75, 30.0),\n",
       " (31.0, 30.0),\n",
       " (31.25, 30.0),\n",
       " (31.5, 30.0),\n",
       " (30.5, 30.25),\n",
       " (30.75, 30.25),\n",
       " (31.0, 30.25),\n",
       " (31.25, 30.25),\n",
       " (31.5, 30.25),\n",
       " (30.5, 30.5),\n",
       " (30.75, 30.5),\n",
       " (31.0, 30.5),\n",
       " (31.25, 30.5),\n",
       " (31.5, 30.5)]"
      ]
     },
     "metadata": {},
     "output_type": "display_data"
    },
    {
     "data": {
      "text/plain": [
       "25"
      ]
     },
     "metadata": {},
     "output_type": "display_data"
    }
   ],
   "source": [
    "grid = get_grid_coord(\n",
    "    c_lat = 30,\n",
    "    c_lon = 31,\n",
    "    point_radius = 0.5,\n",
    "    max_radius = 1,\n",
    ")\n",
    "display(grid, len(grid))"
   ]
  },
  {
   "cell_type": "markdown",
   "metadata": {},
   "source": [
    "### Rank best model for prediction\n",
    "\n",
    "There is some overlap between models.  Starting out, we'll use the model with the most obervations, closest to the target."
   ]
  },
  {
   "cell_type": "code",
   "execution_count": null,
   "metadata": {},
   "outputs": [],
   "source": []
  },
  {
   "cell_type": "markdown",
   "metadata": {},
   "source": [
    "### Get data within model limits\n",
    "\n",
    "Query database for search metadata within it's specified radius"
   ]
  },
  {
   "cell_type": "code",
   "execution_count": 136,
   "metadata": {},
   "outputs": [],
   "source": [
    "import read_query"
   ]
  },
  {
   "cell_type": "code",
   "execution_count": 141,
   "metadata": {},
   "outputs": [
    {
     "data": {
      "text/plain": [
       "[(37.8739, -122.431297, 'cannabis_clinics', 21),\n",
       " (37.8739, -122.531297, 'cannabis_clinics', 0),\n",
       " (37.6739, -122.531297, 'cannabis_clinics', 17)]"
      ]
     },
     "execution_count": 141,
     "metadata": {},
     "output_type": "execute_result"
    }
   ],
   "source": [
    "read_query.sample_data(\n",
    "    coordinates = (37.85, -122.4),\n",
    "    model_radius = 0.8\n",
    ")"
   ]
  },
  {
   "cell_type": "code",
   "execution_count": null,
   "metadata": {},
   "outputs": [],
   "source": []
  }
 ],
 "metadata": {
  "kernelspec": {
   "display_name": "Python 3",
   "language": "python",
   "name": "python3"
  },
  "language_info": {
   "codemirror_mode": {
    "name": "ipython",
    "version": 3
   },
   "file_extension": ".py",
   "mimetype": "text/x-python",
   "name": "python",
   "nbconvert_exporter": "python",
   "pygments_lexer": "ipython3",
   "version": "3.7.5"
  }
 },
 "nbformat": 4,
 "nbformat_minor": 2
}
