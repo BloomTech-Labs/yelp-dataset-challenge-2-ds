{
 "cells": [
  {
   "cell_type": "markdown",
   "metadata": {},
   "source": [
    "# Search Setup\n",
    "\n",
    "Bootstrapping results and testing full geo movement suite"
   ]
  },
  {
   "cell_type": "markdown",
   "metadata": {},
   "source": [
    "## Bootstrapping ModelMap Perceptrons\n",
    "\n",
    "Run initial searches to give starter data for perceptrons\n",
    "\n",
    "**TEST** San Francisco\n",
    "\n",
    "> 37.7749° N, 122.4194° W\n",
    "\n",
    "> map_radius = 1 # Approximately 110km radius of search\n",
    "\n",
    "> model_radiux = 0.05 # Approximately 5km"
   ]
  },
  {
   "cell_type": "code",
   "execution_count": 1,
   "metadata": {},
   "outputs": [],
   "source": [
    "import lens"
   ]
  },
  {
   "cell_type": "code",
   "execution_count": 2,
   "metadata": {},
   "outputs": [
    {
     "data": {
      "text/plain": [
       "[(37.2749, -122.931297),\n",
       " (37.3249, -122.931297),\n",
       " (37.374900000000004, -122.931297),\n",
       " (37.4249, -122.931297),\n",
       " (37.474900000000005, -122.931297)]"
      ]
     },
     "execution_count": 2,
     "metadata": {},
     "output_type": "execute_result"
    }
   ],
   "source": [
    "modelmap = lens.ModelMap(\n",
    "    center_coord=(37.7749, -122.431297),\n",
    "    map_radius=1,\n",
    "    model_radius=0.1\n",
    ")\n",
    "modelmap.map[0:5]"
   ]
  },
  {
   "cell_type": "markdown",
   "metadata": {},
   "source": [
    "### Create Scrapers and Run Initial Search\n",
    "\n",
    "Load search categories from database and create a series of scrapers."
   ]
  },
  {
   "cell_type": "code",
   "execution_count": 3,
   "metadata": {},
   "outputs": [
    {
     "data": {
      "text/plain": [
       "['auto', 'localservices', 'physicians', 'restaurants', 'realestate']"
      ]
     },
     "execution_count": 3,
     "metadata": {},
     "output_type": "execute_result"
    }
   ],
   "source": [
    "from read_query import list_categories\n",
    "\n",
    "categories = list_categories()\n",
    "categories[0:5]"
   ]
  },
  {
   "cell_type": "markdown",
   "metadata": {},
   "source": [
    "Initialize scrapers with category and first coordinate"
   ]
  },
  {
   "cell_type": "code",
   "execution_count": 4,
   "metadata": {},
   "outputs": [],
   "source": [
    "from app import Scraper\n",
    "scrapers = []\n",
    "for category in categories:\n",
    "    scrapers.append(Scraper(\n",
    "        start_coord = modelmap.map[0],\n",
    "        radius=1,\n",
    "        category=category\n",
    "    ))"
   ]
  },
  {
   "cell_type": "markdown",
   "metadata": {},
   "source": [
    "Create a timer and run all the scrapers with delay.  Run twice to get better idea of local density."
   ]
  },
  {
   "cell_type": "code",
   "execution_count": 8,
   "metadata": {},
   "outputs": [
    {
     "name": "stdout",
     "output_type": "stream",
     "text": [
      "Running scrape on auto : (37.2749, -122.931297)\n",
      "Running scrape on localservices : (37.2749, -122.931297)\n",
      "Running scrape on physicians : (37.2749, -122.931297)\n",
      "Running scrape on restaurants : (37.2749, -122.931297)\n",
      "Running scrape on realestate : (37.2749, -122.931297)\n",
      "Running scrape on farms : (37.2749, -122.931297)\n",
      "Running scrape on active : (37.2749, -122.931297)\n",
      "Running scrape on partyequipmentrentals : (37.2749, -122.931297)\n",
      "Running scrape on plumbing : (37.2749, -122.931297)\n",
      "Running scrape on eventservices : (37.2749, -122.931297)\n",
      "Running scrape on nightlife : (37.2749, -122.931297)\n",
      "Running scrape on fitness : (37.2749, -122.931297)\n",
      "Running scrape on food : (37.2749, -122.931297)\n",
      "Running scrape on professional : (37.2749, -122.931297)\n",
      "Running scrape on arts : (37.2749, -122.931297)\n",
      "Running scrape on petstore : (37.2749, -122.931297)\n",
      "Running scrape on hair : (37.2749, -122.931297)\n",
      "Running scrape on photographers : (37.2749, -122.931297)\n",
      "Running scrape on lawyers : (37.2749, -122.931297)\n",
      "Running scrape on transport : (37.2749, -122.931297)\n",
      "Running scrape on italian : (37.2749, -122.931297)\n",
      "Running scrape on health : (37.2749, -122.931297)\n",
      "Running scrape on shopping : (37.2749, -122.931297)\n",
      "Running scrape on cannabis_clinics : (37.2749, -122.931297)\n",
      "Running scrape on chinese : (37.2749, -122.931297)\n",
      "Running scrape on autoglass : (37.2749, -122.931297)\n",
      "Running scrape on specialtyschools : (37.2749, -122.931297)\n",
      "Running scrape on homeservices : (37.2749, -122.931297)\n",
      "Running scrape on bars : (37.2749, -122.931297)\n",
      "Running scrape on gyms : (37.2749, -122.931297)\n",
      "Running scrape on publicservicesgovt : (37.2749, -122.931297)\n",
      "Running scrape on education : (37.2749, -122.931297)\n",
      "Running scrape on latin : (37.2749, -122.931297)\n",
      "Running scrape on japanese : (37.2749, -122.931297)\n",
      "Running scrape on legalservices : (37.2749, -122.931297)\n",
      "Running scrape on financialservices : (37.2749, -122.931297)\n",
      "Running scrape on diagnosticservices : (37.2749, -122.931297)\n",
      "Running scrape on sportgoods : (37.2749, -122.931297)\n",
      "Running scrape on autorepair : (37.2749, -122.931297)\n",
      "Running scrape on caribbean : (37.2749, -122.931297)\n",
      "Running scrape on junkremovalandhauling : (37.2749, -122.931297)\n",
      "Running scrape on mideastern : (37.2749, -122.931297)\n",
      "Running scrape on crisispregnancycenters : (37.2749, -122.931297)\n",
      "Running scrape on nonprofit : (37.2749, -122.931297)\n",
      "Running scrape on pets : (37.2749, -122.931297)\n",
      "Running scrape on beautysvc : (37.2749, -122.931297)\n",
      "Running scrape on landscaping : (37.2749, -122.931297)\n",
      "Running scrape on hotelstravel : (37.2749, -122.931297)\n",
      "Running scrape on hotels : (37.2749, -122.931297)\n",
      "Running scrape on gourmet : (37.2749, -122.931297)\n",
      "Running scrape on artsandcrafts : (37.2749, -122.931297)\n",
      "Running scrape on localflavor : (37.2749, -122.931297)\n",
      "Running scrape on zoos : (37.2749, -122.931297)\n",
      "Running scrape on petservices : (37.2749, -122.931297)\n",
      "Running scrape on homeandgarden : (37.2749, -122.931297)\n",
      "Running scrape on african : (37.2749, -122.931297)\n",
      "Running scrape on c_and_mh : (37.2749, -122.931297)\n",
      "Running scrape on hairremoval : (37.2749, -122.931297)\n",
      "Running scrape on wholesalers : (37.2749, -122.931297)\n",
      "Running scrape on mexican : (37.2749, -122.931297)\n",
      "Running scrape on cafes : (37.2749, -122.931297)\n",
      "Running scrape on social_clubs : (37.2749, -122.931297)\n",
      "Running scrape on estateplanning : (37.2749, -122.931297)\n"
     ]
    }
   ],
   "source": [
    "import time\n",
    "import numpy as np\n",
    "\n",
    "for scraper in scrapers:\n",
    "    print(\"Running scrape on {} : {}\".format(scraper.category, scraper.coordinates))\n",
    "    scraper.search()\n",
    "    time.sleep(np.random.randint(2,5))"
   ]
  },
  {
   "cell_type": "code",
   "execution_count": 1,
   "metadata": {},
   "outputs": [
    {
     "name": "stdout",
     "output_type": "stream",
     "text": [
      "Search at (32.915736, -117.411087)\n",
      "Environment variables set.\n",
      "Search at (32.765736, -117.01108699999999)\n",
      "Search at (32.815736, -117.26108699999999)\n",
      "Search at (32.565736, -117.061087)\n",
      "Search at (32.865736, -117.311087)\n",
      "Search at (32.615736, -117.01108699999999)\n"
     ]
    }
   ],
   "source": [
    "# Testing bootstrap functionality\n",
    "from app import bootstrap_search\n",
    "\n",
    "bootstrap_search(center_coord = (32.715736, -117.161087))  # Coordinates for San Diego"
   ]
  },
  {
   "cell_type": "code",
   "execution_count": 3,
   "metadata": {},
   "outputs": [
    {
     "data": {
      "text/plain": [
       "['auto',\n",
       " 'localservices',\n",
       " 'physicians',\n",
       " 'restaurants',\n",
       " 'realestate',\n",
       " 'farms',\n",
       " 'active',\n",
       " 'partyequipmentrentals',\n",
       " 'plumbing',\n",
       " 'eventservices',\n",
       " 'nightlife',\n",
       " 'fitness',\n",
       " 'food',\n",
       " 'professional',\n",
       " 'arts',\n",
       " 'petstore',\n",
       " 'hair',\n",
       " 'photographers',\n",
       " 'lawyers',\n",
       " 'transport',\n",
       " 'italian',\n",
       " 'health',\n",
       " 'shopping',\n",
       " 'cannabis_clinics',\n",
       " 'chinese',\n",
       " 'autoglass',\n",
       " 'specialtyschools',\n",
       " 'homeservices',\n",
       " 'bars',\n",
       " 'gyms',\n",
       " 'publicservicesgovt',\n",
       " 'education',\n",
       " 'latin',\n",
       " 'japanese',\n",
       " 'legalservices',\n",
       " 'financialservices',\n",
       " 'diagnosticservices',\n",
       " 'sportgoods',\n",
       " 'autorepair',\n",
       " 'caribbean',\n",
       " 'junkremovalandhauling',\n",
       " 'mideastern',\n",
       " 'crisispregnancycenters',\n",
       " 'nonprofit',\n",
       " 'pets',\n",
       " 'beautysvc',\n",
       " 'landscaping',\n",
       " 'hotelstravel',\n",
       " 'hotels',\n",
       " 'gourmet',\n",
       " 'artsandcrafts',\n",
       " 'localflavor',\n",
       " 'zoos',\n",
       " 'petservices',\n",
       " 'homeandgarden',\n",
       " 'african',\n",
       " 'c_and_mh',\n",
       " 'hairremoval',\n",
       " 'wholesalers',\n",
       " 'mexican',\n",
       " 'cafes',\n",
       " 'social_clubs',\n",
       " 'estateplanning']"
      ]
     },
     "execution_count": 3,
     "metadata": {},
     "output_type": "execute_result"
    }
   ],
   "source": [
    "from sklearn.preprocessing import OneHotEncoder\n",
    "from read_query import list_categories\n",
    "\n",
    "categories = list_categories()\n",
    "\n"
   ]
  },
  {
   "cell_type": "code",
   "execution_count": null,
   "metadata": {},
   "outputs": [],
   "source": []
  }
 ],
 "metadata": {
  "kernelspec": {
   "display_name": "Python 3",
   "language": "python",
   "name": "python3"
  },
  "language_info": {
   "codemirror_mode": {
    "name": "ipython",
    "version": 3
   },
   "file_extension": ".py",
   "mimetype": "text/x-python",
   "name": "python",
   "nbconvert_exporter": "python",
   "pygments_lexer": "ipython3",
   "version": "3.7.5"
  }
 },
 "nbformat": 4,
 "nbformat_minor": 2
}
