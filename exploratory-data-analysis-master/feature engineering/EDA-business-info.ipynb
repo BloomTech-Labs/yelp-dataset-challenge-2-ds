{
 "cells": [
  {
   "cell_type": "code",
   "execution_count": 1,
   "metadata": {},
   "outputs": [],
   "source": [
    "import boto3\n",
    "import pandas as pd\n",
    "from sagemaker import get_execution_role"
   ]
  },
  {
   "cell_type": "code",
   "execution_count": 2,
   "metadata": {},
   "outputs": [],
   "source": [
    "role = get_execution_role()\n",
    "bucket='ds6-yelp-reviews'\n",
    "data_key = 'business.json'\n",
    "data_location = 's3://{}/{}'.format(bucket, data_key)\n",
    "\n",
    "df = pd.read_json(data_location, lines=True)"
   ]
  },
  {
   "cell_type": "code",
   "execution_count": null,
   "metadata": {},
   "outputs": [],
   "source": [
    "df['is_open'].value_counts(normalize=True)"
   ]
  },
  {
   "cell_type": "code",
   "execution_count": null,
   "metadata": {},
   "outputs": [],
   "source": [
    "df['is_open'].value_counts()"
   ]
  },
  {
   "cell_type": "code",
   "execution_count": null,
   "metadata": {},
   "outputs": [],
   "source": [
    "df.head()"
   ]
  },
  {
   "cell_type": "code",
   "execution_count": null,
   "metadata": {},
   "outputs": [],
   "source": [
    "df['state'].value_counts()"
   ]
  },
  {
   "cell_type": "code",
   "execution_count": null,
   "metadata": {},
   "outputs": [],
   "source": [
    "df['categories'].value_counts()"
   ]
  },
  {
   "cell_type": "code",
   "execution_count": null,
   "metadata": {},
   "outputs": [],
   "source": [
    "df.shape"
   ]
  },
  {
   "cell_type": "code",
   "execution_count": null,
   "metadata": {},
   "outputs": [],
   "source": [
    "df = df.dropna()"
   ]
  },
  {
   "cell_type": "code",
   "execution_count": null,
   "metadata": {},
   "outputs": [],
   "source": [
    "df.shape"
   ]
  },
  {
   "cell_type": "code",
   "execution_count": null,
   "metadata": {},
   "outputs": [],
   "source": [
    "df['business_id'].describe()"
   ]
  },
  {
   "cell_type": "code",
   "execution_count": null,
   "metadata": {},
   "outputs": [],
   "source": [
    "len(df[df['categories'].str.contains(\"Restaurants\")])"
   ]
  },
  {
   "cell_type": "code",
   "execution_count": null,
   "metadata": {},
   "outputs": [],
   "source": [
    "import seaborn as sns"
   ]
  },
  {
   "cell_type": "code",
   "execution_count": null,
   "metadata": {},
   "outputs": [],
   "source": [
    "sns.distplot(df['stars'])"
   ]
  },
  {
   "cell_type": "code",
   "execution_count": null,
   "metadata": {},
   "outputs": [],
   "source": [
    "df['attributes'].describe()"
   ]
  },
  {
   "cell_type": "code",
   "execution_count": null,
   "metadata": {},
   "outputs": [],
   "source": [
    "df['attributes'].value_counts()"
   ]
  },
  {
   "cell_type": "code",
   "execution_count": null,
   "metadata": {},
   "outputs": [],
   "source": [
    "restaurantprice2 = [d.get('RestaurantsPriceRange2') for d in df['attributes']]"
   ]
  },
  {
   "cell_type": "code",
   "execution_count": null,
   "metadata": {},
   "outputs": [],
   "source": [
    "df['pricerange2'] = restaurantprice2"
   ]
  },
  {
   "cell_type": "code",
   "execution_count": null,
   "metadata": {},
   "outputs": [],
   "source": [
    "df['pricerange2'].value_counts()"
   ]
  },
  {
   "cell_type": "code",
   "execution_count": null,
   "metadata": {},
   "outputs": [],
   "source": [
    "import pandas_profiling"
   ]
  },
  {
   "cell_type": "code",
   "execution_count": null,
   "metadata": {},
   "outputs": [],
   "source": [
    "pandas_profiling.ProfileReport(df)"
   ]
  },
  {
   "cell_type": "code",
   "execution_count": 3,
   "metadata": {},
   "outputs": [
    {
     "data": {
      "text/html": [
       "<div>\n",
       "<style scoped>\n",
       "    .dataframe tbody tr th:only-of-type {\n",
       "        vertical-align: middle;\n",
       "    }\n",
       "\n",
       "    .dataframe tbody tr th {\n",
       "        vertical-align: top;\n",
       "    }\n",
       "\n",
       "    .dataframe thead th {\n",
       "        text-align: right;\n",
       "    }\n",
       "</style>\n",
       "<table border=\"1\" class=\"dataframe\">\n",
       "  <thead>\n",
       "    <tr style=\"text-align: right;\">\n",
       "      <th></th>\n",
       "      <th>address</th>\n",
       "      <th>attributes</th>\n",
       "      <th>business_id</th>\n",
       "      <th>categories</th>\n",
       "      <th>city</th>\n",
       "      <th>hours</th>\n",
       "      <th>is_open</th>\n",
       "      <th>latitude</th>\n",
       "      <th>longitude</th>\n",
       "      <th>name</th>\n",
       "      <th>postal_code</th>\n",
       "      <th>review_count</th>\n",
       "      <th>stars</th>\n",
       "      <th>state</th>\n",
       "    </tr>\n",
       "  </thead>\n",
       "  <tbody>\n",
       "    <tr>\n",
       "      <th>0</th>\n",
       "      <td>2818 E Camino Acequia Drive</td>\n",
       "      <td>{'GoodForKids': 'False'}</td>\n",
       "      <td>1SWheh84yJXfytovILXOAQ</td>\n",
       "      <td>Golf, Active Life</td>\n",
       "      <td>Phoenix</td>\n",
       "      <td>None</td>\n",
       "      <td>0</td>\n",
       "      <td>33.522143</td>\n",
       "      <td>-112.018481</td>\n",
       "      <td>Arizona Biltmore Golf Club</td>\n",
       "      <td>85016</td>\n",
       "      <td>5</td>\n",
       "      <td>3.0</td>\n",
       "      <td>AZ</td>\n",
       "    </tr>\n",
       "    <tr>\n",
       "      <th>1</th>\n",
       "      <td>30 Eglinton Avenue W</td>\n",
       "      <td>{'RestaurantsReservations': 'True', 'GoodForMe...</td>\n",
       "      <td>QXAEGFB4oINsVuTFxEYKFQ</td>\n",
       "      <td>Specialty Food, Restaurants, Dim Sum, Imported...</td>\n",
       "      <td>Mississauga</td>\n",
       "      <td>{'Monday': '9:0-0:0', 'Tuesday': '9:0-0:0', 'W...</td>\n",
       "      <td>1</td>\n",
       "      <td>43.605499</td>\n",
       "      <td>-79.652289</td>\n",
       "      <td>Emerald Chinese Restaurant</td>\n",
       "      <td>L5R 3E7</td>\n",
       "      <td>128</td>\n",
       "      <td>2.5</td>\n",
       "      <td>ON</td>\n",
       "    </tr>\n",
       "    <tr>\n",
       "      <th>2</th>\n",
       "      <td>10110 Johnston Rd, Ste 15</td>\n",
       "      <td>{'GoodForKids': 'True', 'NoiseLevel': 'u'avera...</td>\n",
       "      <td>gnKjwL_1w79qoiV3IC_xQQ</td>\n",
       "      <td>Sushi Bars, Restaurants, Japanese</td>\n",
       "      <td>Charlotte</td>\n",
       "      <td>{'Monday': '17:30-21:30', 'Wednesday': '17:30-...</td>\n",
       "      <td>1</td>\n",
       "      <td>35.092564</td>\n",
       "      <td>-80.859132</td>\n",
       "      <td>Musashi Japanese Restaurant</td>\n",
       "      <td>28210</td>\n",
       "      <td>170</td>\n",
       "      <td>4.0</td>\n",
       "      <td>NC</td>\n",
       "    </tr>\n",
       "    <tr>\n",
       "      <th>3</th>\n",
       "      <td>15655 W Roosevelt St, Ste 237</td>\n",
       "      <td>None</td>\n",
       "      <td>xvX2CttrVhyG2z1dFg_0xw</td>\n",
       "      <td>Insurance, Financial Services</td>\n",
       "      <td>Goodyear</td>\n",
       "      <td>{'Monday': '8:0-17:0', 'Tuesday': '8:0-17:0', ...</td>\n",
       "      <td>1</td>\n",
       "      <td>33.455613</td>\n",
       "      <td>-112.395596</td>\n",
       "      <td>Farmers Insurance - Paul Lorenz</td>\n",
       "      <td>85338</td>\n",
       "      <td>3</td>\n",
       "      <td>5.0</td>\n",
       "      <td>AZ</td>\n",
       "    </tr>\n",
       "    <tr>\n",
       "      <th>4</th>\n",
       "      <td>4209 Stuart Andrew Blvd, Ste F</td>\n",
       "      <td>{'BusinessAcceptsBitcoin': 'False', 'ByAppoint...</td>\n",
       "      <td>HhyxOkGAM07SRYtlQ4wMFQ</td>\n",
       "      <td>Plumbing, Shopping, Local Services, Home Servi...</td>\n",
       "      <td>Charlotte</td>\n",
       "      <td>{'Monday': '7:0-23:0', 'Tuesday': '7:0-23:0', ...</td>\n",
       "      <td>1</td>\n",
       "      <td>35.190012</td>\n",
       "      <td>-80.887223</td>\n",
       "      <td>Queen City Plumbing</td>\n",
       "      <td>28217</td>\n",
       "      <td>4</td>\n",
       "      <td>4.0</td>\n",
       "      <td>NC</td>\n",
       "    </tr>\n",
       "  </tbody>\n",
       "</table>\n",
       "</div>"
      ],
      "text/plain": [
       "                          address  \\\n",
       "0     2818 E Camino Acequia Drive   \n",
       "1            30 Eglinton Avenue W   \n",
       "2       10110 Johnston Rd, Ste 15   \n",
       "3   15655 W Roosevelt St, Ste 237   \n",
       "4  4209 Stuart Andrew Blvd, Ste F   \n",
       "\n",
       "                                          attributes             business_id  \\\n",
       "0                           {'GoodForKids': 'False'}  1SWheh84yJXfytovILXOAQ   \n",
       "1  {'RestaurantsReservations': 'True', 'GoodForMe...  QXAEGFB4oINsVuTFxEYKFQ   \n",
       "2  {'GoodForKids': 'True', 'NoiseLevel': 'u'avera...  gnKjwL_1w79qoiV3IC_xQQ   \n",
       "3                                               None  xvX2CttrVhyG2z1dFg_0xw   \n",
       "4  {'BusinessAcceptsBitcoin': 'False', 'ByAppoint...  HhyxOkGAM07SRYtlQ4wMFQ   \n",
       "\n",
       "                                          categories         city  \\\n",
       "0                                  Golf, Active Life      Phoenix   \n",
       "1  Specialty Food, Restaurants, Dim Sum, Imported...  Mississauga   \n",
       "2                  Sushi Bars, Restaurants, Japanese    Charlotte   \n",
       "3                      Insurance, Financial Services     Goodyear   \n",
       "4  Plumbing, Shopping, Local Services, Home Servi...    Charlotte   \n",
       "\n",
       "                                               hours  is_open   latitude  \\\n",
       "0                                               None        0  33.522143   \n",
       "1  {'Monday': '9:0-0:0', 'Tuesday': '9:0-0:0', 'W...        1  43.605499   \n",
       "2  {'Monday': '17:30-21:30', 'Wednesday': '17:30-...        1  35.092564   \n",
       "3  {'Monday': '8:0-17:0', 'Tuesday': '8:0-17:0', ...        1  33.455613   \n",
       "4  {'Monday': '7:0-23:0', 'Tuesday': '7:0-23:0', ...        1  35.190012   \n",
       "\n",
       "    longitude                             name postal_code  review_count  \\\n",
       "0 -112.018481       Arizona Biltmore Golf Club       85016             5   \n",
       "1  -79.652289       Emerald Chinese Restaurant     L5R 3E7           128   \n",
       "2  -80.859132      Musashi Japanese Restaurant       28210           170   \n",
       "3 -112.395596  Farmers Insurance - Paul Lorenz       85338             3   \n",
       "4  -80.887223              Queen City Plumbing       28217             4   \n",
       "\n",
       "   stars state  \n",
       "0    3.0    AZ  \n",
       "1    2.5    ON  \n",
       "2    4.0    NC  \n",
       "3    5.0    AZ  \n",
       "4    4.0    NC  "
      ]
     },
     "execution_count": 3,
     "metadata": {},
     "output_type": "execute_result"
    }
   ],
   "source": [
    "df.head()"
   ]
  },
  {
   "cell_type": "code",
   "execution_count": 4,
   "metadata": {},
   "outputs": [],
   "source": [
    "import pandas as pd\n",
    "\n",
    "ids = pd.read_csv('your_file.txt', header = None)"
   ]
  },
  {
   "cell_type": "code",
   "execution_count": 5,
   "metadata": {},
   "outputs": [],
   "source": [
    "new_ids = pd.read_csv('newids.txt', header = None)"
   ]
  },
  {
   "cell_type": "code",
   "execution_count": 6,
   "metadata": {},
   "outputs": [],
   "source": [
    "new_ids = new_ids.rename(columns={0: \"ID\"})"
   ]
  },
  {
   "cell_type": "code",
   "execution_count": null,
   "metadata": {},
   "outputs": [],
   "source": [
    "ids = ids.rename(columns={0: \"ID\"})"
   ]
  },
  {
   "cell_type": "code",
   "execution_count": null,
   "metadata": {},
   "outputs": [],
   "source": [
    "ids['ID'].dtype"
   ]
  },
  {
   "cell_type": "code",
   "execution_count": null,
   "metadata": {},
   "outputs": [],
   "source": [
    "df_names = pd.merge(ids, df, left_on=\"ID\", right_on=\"business_id\", how=\"left\")"
   ]
  },
  {
   "cell_type": "code",
   "execution_count": 7,
   "metadata": {},
   "outputs": [],
   "source": [
    "df_names2 = pd.merge(new_ids, df, left_on=\"ID\", right_on=\"business_id\", how=\"left\")"
   ]
  },
  {
   "cell_type": "code",
   "execution_count": null,
   "metadata": {},
   "outputs": [],
   "source": [
    "df_names.shape"
   ]
  },
  {
   "cell_type": "code",
   "execution_count": 8,
   "metadata": {},
   "outputs": [
    {
     "data": {
      "text/plain": [
       "(94435, 15)"
      ]
     },
     "execution_count": 8,
     "metadata": {},
     "output_type": "execute_result"
    }
   ],
   "source": [
    "df_names2.shape"
   ]
  },
  {
   "cell_type": "code",
   "execution_count": null,
   "metadata": {},
   "outputs": [],
   "source": [
    "df_names = df_names[['ID','name']]"
   ]
  },
  {
   "cell_type": "code",
   "execution_count": 11,
   "metadata": {},
   "outputs": [],
   "source": [
    "df_names2 = df_names2[['ID','name']]"
   ]
  },
  {
   "cell_type": "code",
   "execution_count": 12,
   "metadata": {},
   "outputs": [
    {
     "data": {
      "text/html": [
       "<div>\n",
       "<style scoped>\n",
       "    .dataframe tbody tr th:only-of-type {\n",
       "        vertical-align: middle;\n",
       "    }\n",
       "\n",
       "    .dataframe tbody tr th {\n",
       "        vertical-align: top;\n",
       "    }\n",
       "\n",
       "    .dataframe thead th {\n",
       "        text-align: right;\n",
       "    }\n",
       "</style>\n",
       "<table border=\"1\" class=\"dataframe\">\n",
       "  <thead>\n",
       "    <tr style=\"text-align: right;\">\n",
       "      <th></th>\n",
       "      <th>ID</th>\n",
       "      <th>name</th>\n",
       "    </tr>\n",
       "  </thead>\n",
       "  <tbody>\n",
       "    <tr>\n",
       "      <th>0</th>\n",
       "      <td>ujmEBvifdJM6h6RLv4wQIg</td>\n",
       "      <td>MountainView Hospital</td>\n",
       "    </tr>\n",
       "    <tr>\n",
       "      <th>1</th>\n",
       "      <td>NZnhc2sEQy3RmzKTZnqtwQ</td>\n",
       "      <td>Kelly Cardenas Salon - Hard Rock Hotel &amp; Casino</td>\n",
       "    </tr>\n",
       "    <tr>\n",
       "      <th>2</th>\n",
       "      <td>WTqjgwHlXbSFevF32_DJVw</td>\n",
       "      <td>J. Philipp Centers for Family and Cosmetic Den...</td>\n",
       "    </tr>\n",
       "    <tr>\n",
       "      <th>3</th>\n",
       "      <td>ikCg8xy5JIg_NGPx-MSIDA</td>\n",
       "      <td>Regal Beagle Pub</td>\n",
       "    </tr>\n",
       "    <tr>\n",
       "      <th>4</th>\n",
       "      <td>b1b1eb3uo-w561D0ZfCEiQ</td>\n",
       "      <td>White Teeth AZ</td>\n",
       "    </tr>\n",
       "  </tbody>\n",
       "</table>\n",
       "</div>"
      ],
      "text/plain": [
       "                       ID                                               name\n",
       "0  ujmEBvifdJM6h6RLv4wQIg                              MountainView Hospital\n",
       "1  NZnhc2sEQy3RmzKTZnqtwQ    Kelly Cardenas Salon - Hard Rock Hotel & Casino\n",
       "2  WTqjgwHlXbSFevF32_DJVw  J. Philipp Centers for Family and Cosmetic Den...\n",
       "3  ikCg8xy5JIg_NGPx-MSIDA                                   Regal Beagle Pub\n",
       "4  b1b1eb3uo-w561D0ZfCEiQ                                     White Teeth AZ"
      ]
     },
     "execution_count": 12,
     "metadata": {},
     "output_type": "execute_result"
    }
   ],
   "source": [
    "df_names2.head()"
   ]
  },
  {
   "cell_type": "code",
   "execution_count": null,
   "metadata": {},
   "outputs": [],
   "source": [
    "df_names.head()"
   ]
  },
  {
   "cell_type": "code",
   "execution_count": null,
   "metadata": {},
   "outputs": [],
   "source": [
    "names = df_names['name']\n",
    "\n",
    "names.to_csv(\"names2.txt\", sep=',', index=False)\n",
    "# with open('names.txt', 'w') as f:\n",
    "#     for item in names:\n",
    "#         f.write(\"%s\\n\" % item)"
   ]
  },
  {
   "cell_type": "code",
   "execution_count": null,
   "metadata": {},
   "outputs": [],
   "source": [
    "df_names.shape"
   ]
  },
  {
   "cell_type": "code",
   "execution_count": null,
   "metadata": {},
   "outputs": [],
   "source": [
    "listn = df_names['name'].tolist()"
   ]
  },
  {
   "cell_type": "code",
   "execution_count": 13,
   "metadata": {},
   "outputs": [],
   "source": [
    "list2 = df_names2['name'].tolist()"
   ]
  },
  {
   "cell_type": "code",
   "execution_count": null,
   "metadata": {},
   "outputs": [],
   "source": [
    "ids = df_names['ID'].tolist()"
   ]
  },
  {
   "cell_type": "code",
   "execution_count": 14,
   "metadata": {},
   "outputs": [],
   "source": [
    "ids2 = df_names2['ID'].tolist()"
   ]
  },
  {
   "cell_type": "code",
   "execution_count": null,
   "metadata": {},
   "outputs": [],
   "source": [
    "with open(\"names2.txt\", \"w\") as output:\n",
    "    output.write(str(list2))"
   ]
  },
  {
   "cell_type": "code",
   "execution_count": 15,
   "metadata": {},
   "outputs": [],
   "source": [
    "def creat_dic(lst1, lst2):\n",
    "    pairs = dict(zip(lst1, lst2))\n",
    "    return pairs"
   ]
  },
  {
   "cell_type": "code",
   "execution_count": 16,
   "metadata": {},
   "outputs": [],
   "source": [
    "dict2 = creat_dic(list2, ids2)"
   ]
  },
  {
   "cell_type": "code",
   "execution_count": 17,
   "metadata": {},
   "outputs": [],
   "source": [
    "with open(\"dict2.txt\", \"w\") as output:\n",
    "    output.write(str(dict2))"
   ]
  },
  {
   "cell_type": "code",
   "execution_count": 68,
   "metadata": {},
   "outputs": [
    {
     "data": {
      "text/plain": [
       "Index(['address', 'attributes', 'business_id', 'categories', 'city', 'hours',\n",
       "       'is_open', 'latitude', 'longitude', 'name', 'postal_code',\n",
       "       'review_count', 'stars', 'state'],\n",
       "      dtype='object')"
      ]
     },
     "execution_count": 68,
     "metadata": {},
     "output_type": "execute_result"
    }
   ],
   "source": [
    "df.columns"
   ]
  },
  {
   "cell_type": "code",
   "execution_count": 71,
   "metadata": {},
   "outputs": [
    {
     "data": {
      "text/plain": [
       "False"
      ]
     },
     "execution_count": 71,
     "metadata": {},
     "output_type": "execute_result"
    }
   ],
   "source": [
    "any(df.duplicated(subset=['address', 'business_id', 'categories', 'city',\n",
    "       'is_open', 'latitude', 'longitude', 'name', 'postal_code',\n",
    "       'review_count', 'stars', 'state']))"
   ]
  },
  {
   "cell_type": "code",
   "execution_count": 21,
   "metadata": {},
   "outputs": [],
   "source": [
    "duplicates = df[df.duplicated('name', keep=False)].sort_values('name')"
   ]
  },
  {
   "cell_type": "code",
   "execution_count": 23,
   "metadata": {},
   "outputs": [],
   "source": [
    "not_duplicates = df[~df.duplicated('name', keep=False)]"
   ]
  },
  {
   "cell_type": "code",
   "execution_count": 24,
   "metadata": {},
   "outputs": [
    {
     "data": {
      "text/plain": [
       "(58972, 14)"
      ]
     },
     "execution_count": 24,
     "metadata": {},
     "output_type": "execute_result"
    }
   ],
   "source": [
    "duplicates.shape"
   ]
  },
  {
   "cell_type": "code",
   "execution_count": 25,
   "metadata": {},
   "outputs": [
    {
     "data": {
      "text/plain": [
       "(133637, 14)"
      ]
     },
     "execution_count": 25,
     "metadata": {},
     "output_type": "execute_result"
    }
   ],
   "source": [
    "not_duplicates.shape"
   ]
  },
  {
   "cell_type": "code",
   "execution_count": 26,
   "metadata": {},
   "outputs": [
    {
     "data": {
      "text/plain": [
       "(192609, 14)"
      ]
     },
     "execution_count": 26,
     "metadata": {},
     "output_type": "execute_result"
    }
   ],
   "source": [
    "df.shape"
   ]
  },
  {
   "cell_type": "code",
   "execution_count": 22,
   "metadata": {},
   "outputs": [
    {
     "data": {
      "text/html": [
       "<div>\n",
       "<style scoped>\n",
       "    .dataframe tbody tr th:only-of-type {\n",
       "        vertical-align: middle;\n",
       "    }\n",
       "\n",
       "    .dataframe tbody tr th {\n",
       "        vertical-align: top;\n",
       "    }\n",
       "\n",
       "    .dataframe thead th {\n",
       "        text-align: right;\n",
       "    }\n",
       "</style>\n",
       "<table border=\"1\" class=\"dataframe\">\n",
       "  <thead>\n",
       "    <tr style=\"text-align: right;\">\n",
       "      <th></th>\n",
       "      <th>address</th>\n",
       "      <th>attributes</th>\n",
       "      <th>business_id</th>\n",
       "      <th>categories</th>\n",
       "      <th>city</th>\n",
       "      <th>hours</th>\n",
       "      <th>is_open</th>\n",
       "      <th>latitude</th>\n",
       "      <th>longitude</th>\n",
       "      <th>name</th>\n",
       "      <th>postal_code</th>\n",
       "      <th>review_count</th>\n",
       "      <th>stars</th>\n",
       "      <th>state</th>\n",
       "    </tr>\n",
       "  </thead>\n",
       "  <tbody>\n",
       "    <tr>\n",
       "      <th>90223</th>\n",
       "      <td>4520 William Penn Hwy</td>\n",
       "      <td>{'BusinessAcceptsCreditCards': 'True'}</td>\n",
       "      <td>Z5kqhmXlKA_SDamQ5qwNGA</td>\n",
       "      <td>Tires, Car Dealers, Automotive, Auto Repair</td>\n",
       "      <td>Monreoville</td>\n",
       "      <td>{'Monday': '9:0-21:0', 'Tuesday': '9:0-21:0', ...</td>\n",
       "      <td>1</td>\n",
       "      <td>40.437934</td>\n",
       "      <td>-79.745126</td>\n",
       "      <td>#1 Cochran Cadillac - Monroeville</td>\n",
       "      <td>15146</td>\n",
       "      <td>9</td>\n",
       "      <td>3.5</td>\n",
       "      <td>PA</td>\n",
       "    </tr>\n",
       "    <tr>\n",
       "      <th>10826</th>\n",
       "      <td>4520 William Penn Hwy</td>\n",
       "      <td>{'BusinessAcceptsCreditCards': 'True'}</td>\n",
       "      <td>IxzYgn2qvvP-6v2vseAsRw</td>\n",
       "      <td>Auto Parts &amp; Supplies, Car Dealers, Automotive...</td>\n",
       "      <td>Monroeville</td>\n",
       "      <td>{'Monday': '9:0-21:0', 'Tuesday': '9:0-21:0', ...</td>\n",
       "      <td>1</td>\n",
       "      <td>40.438658</td>\n",
       "      <td>-79.748539</td>\n",
       "      <td>#1 Cochran Cadillac - Monroeville</td>\n",
       "      <td>15146</td>\n",
       "      <td>9</td>\n",
       "      <td>3.5</td>\n",
       "      <td>PA</td>\n",
       "    </tr>\n",
       "    <tr>\n",
       "      <th>39188</th>\n",
       "      <td>7960 S Rainbow Blvd, Ste 8000G</td>\n",
       "      <td>{'RestaurantsReservations': 'False', 'GoodForM...</td>\n",
       "      <td>gA78_OGp1ekMvZWjRoBmFw</td>\n",
       "      <td>Restaurants, Hawaiian, Barbeque, Seafood</td>\n",
       "      <td>Las Vegas</td>\n",
       "      <td>{'Monday': '10:0-22:0', 'Tuesday': '10:0-22:0'...</td>\n",
       "      <td>1</td>\n",
       "      <td>36.043305</td>\n",
       "      <td>-115.243062</td>\n",
       "      <td>#1 Hawaiian Barbecue</td>\n",
       "      <td>89139</td>\n",
       "      <td>23</td>\n",
       "      <td>4.0</td>\n",
       "      <td>NV</td>\n",
       "    </tr>\n",
       "    <tr>\n",
       "      <th>105935</th>\n",
       "      <td>5905 S Eastern Ave, Ste 105</td>\n",
       "      <td>{'RestaurantsAttire': ''casual'', 'Restaurants...</td>\n",
       "      <td>42yLya7lhe7TQGz3KEdKAw</td>\n",
       "      <td>Restaurants, Hawaiian, Seafood, Barbeque</td>\n",
       "      <td>Las Vegas</td>\n",
       "      <td>{'Monday': '10:30-21:30', 'Tuesday': '10:30-21...</td>\n",
       "      <td>1</td>\n",
       "      <td>36.081920</td>\n",
       "      <td>-115.119526</td>\n",
       "      <td>#1 Hawaiian Barbecue</td>\n",
       "      <td>89119</td>\n",
       "      <td>40</td>\n",
       "      <td>3.5</td>\n",
       "      <td>NV</td>\n",
       "    </tr>\n",
       "    <tr>\n",
       "      <th>59511</th>\n",
       "      <td>917 Eagle Crest Dr</td>\n",
       "      <td>{'BusinessAcceptsCreditCards': 'True', 'ByAppo...</td>\n",
       "      <td>xSwZiSQxNHOnqQ70NExISg</td>\n",
       "      <td>Beauty &amp; Spas, Nail Salons</td>\n",
       "      <td>Madison</td>\n",
       "      <td>None</td>\n",
       "      <td>0</td>\n",
       "      <td>43.111316</td>\n",
       "      <td>-89.290819</td>\n",
       "      <td>007 Nails</td>\n",
       "      <td>53704</td>\n",
       "      <td>5</td>\n",
       "      <td>2.5</td>\n",
       "      <td>WI</td>\n",
       "    </tr>\n",
       "  </tbody>\n",
       "</table>\n",
       "</div>"
      ],
      "text/plain": [
       "                               address  \\\n",
       "90223            4520 William Penn Hwy   \n",
       "10826            4520 William Penn Hwy   \n",
       "39188   7960 S Rainbow Blvd, Ste 8000G   \n",
       "105935     5905 S Eastern Ave, Ste 105   \n",
       "59511               917 Eagle Crest Dr   \n",
       "\n",
       "                                               attributes  \\\n",
       "90223              {'BusinessAcceptsCreditCards': 'True'}   \n",
       "10826              {'BusinessAcceptsCreditCards': 'True'}   \n",
       "39188   {'RestaurantsReservations': 'False', 'GoodForM...   \n",
       "105935  {'RestaurantsAttire': ''casual'', 'Restaurants...   \n",
       "59511   {'BusinessAcceptsCreditCards': 'True', 'ByAppo...   \n",
       "\n",
       "                   business_id  \\\n",
       "90223   Z5kqhmXlKA_SDamQ5qwNGA   \n",
       "10826   IxzYgn2qvvP-6v2vseAsRw   \n",
       "39188   gA78_OGp1ekMvZWjRoBmFw   \n",
       "105935  42yLya7lhe7TQGz3KEdKAw   \n",
       "59511   xSwZiSQxNHOnqQ70NExISg   \n",
       "\n",
       "                                               categories         city  \\\n",
       "90223         Tires, Car Dealers, Automotive, Auto Repair  Monreoville   \n",
       "10826   Auto Parts & Supplies, Car Dealers, Automotive...  Monroeville   \n",
       "39188            Restaurants, Hawaiian, Barbeque, Seafood    Las Vegas   \n",
       "105935           Restaurants, Hawaiian, Seafood, Barbeque    Las Vegas   \n",
       "59511                          Beauty & Spas, Nail Salons      Madison   \n",
       "\n",
       "                                                    hours  is_open   latitude  \\\n",
       "90223   {'Monday': '9:0-21:0', 'Tuesday': '9:0-21:0', ...        1  40.437934   \n",
       "10826   {'Monday': '9:0-21:0', 'Tuesday': '9:0-21:0', ...        1  40.438658   \n",
       "39188   {'Monday': '10:0-22:0', 'Tuesday': '10:0-22:0'...        1  36.043305   \n",
       "105935  {'Monday': '10:30-21:30', 'Tuesday': '10:30-21...        1  36.081920   \n",
       "59511                                                None        0  43.111316   \n",
       "\n",
       "         longitude                               name postal_code  \\\n",
       "90223   -79.745126  #1 Cochran Cadillac - Monroeville       15146   \n",
       "10826   -79.748539  #1 Cochran Cadillac - Monroeville       15146   \n",
       "39188  -115.243062               #1 Hawaiian Barbecue       89139   \n",
       "105935 -115.119526               #1 Hawaiian Barbecue       89119   \n",
       "59511   -89.290819                          007 Nails       53704   \n",
       "\n",
       "        review_count  stars state  \n",
       "90223              9    3.5    PA  \n",
       "10826              9    3.5    PA  \n",
       "39188             23    4.0    NV  \n",
       "105935            40    3.5    NV  \n",
       "59511              5    2.5    WI  "
      ]
     },
     "execution_count": 22,
     "metadata": {},
     "output_type": "execute_result"
    }
   ],
   "source": [
    "duplicates.head()"
   ]
  },
  {
   "cell_type": "code",
   "execution_count": 73,
   "metadata": {},
   "outputs": [],
   "source": [
    "duplicates['name'] = duplicates['name'] + ' - ' + duplicates['address']"
   ]
  },
  {
   "cell_type": "code",
   "execution_count": 74,
   "metadata": {},
   "outputs": [
    {
     "data": {
      "text/html": [
       "<div>\n",
       "<style scoped>\n",
       "    .dataframe tbody tr th:only-of-type {\n",
       "        vertical-align: middle;\n",
       "    }\n",
       "\n",
       "    .dataframe tbody tr th {\n",
       "        vertical-align: top;\n",
       "    }\n",
       "\n",
       "    .dataframe thead th {\n",
       "        text-align: right;\n",
       "    }\n",
       "</style>\n",
       "<table border=\"1\" class=\"dataframe\">\n",
       "  <thead>\n",
       "    <tr style=\"text-align: right;\">\n",
       "      <th></th>\n",
       "      <th>address</th>\n",
       "      <th>attributes</th>\n",
       "      <th>business_id</th>\n",
       "      <th>categories</th>\n",
       "      <th>city</th>\n",
       "      <th>hours</th>\n",
       "      <th>is_open</th>\n",
       "      <th>latitude</th>\n",
       "      <th>longitude</th>\n",
       "      <th>name</th>\n",
       "      <th>postal_code</th>\n",
       "      <th>review_count</th>\n",
       "      <th>stars</th>\n",
       "      <th>state</th>\n",
       "    </tr>\n",
       "  </thead>\n",
       "  <tbody>\n",
       "    <tr>\n",
       "      <th>90223</th>\n",
       "      <td>4520 William Penn Hwy</td>\n",
       "      <td>{'BusinessAcceptsCreditCards': 'True'}</td>\n",
       "      <td>Z5kqhmXlKA_SDamQ5qwNGA</td>\n",
       "      <td>Tires, Car Dealers, Automotive, Auto Repair</td>\n",
       "      <td>Monreoville</td>\n",
       "      <td>{'Monday': '9:0-21:0', 'Tuesday': '9:0-21:0', ...</td>\n",
       "      <td>1</td>\n",
       "      <td>40.437934</td>\n",
       "      <td>-79.745126</td>\n",
       "      <td>#1 Cochran Cadillac - Monroeville - 4520 Willi...</td>\n",
       "      <td>15146</td>\n",
       "      <td>9</td>\n",
       "      <td>3.5</td>\n",
       "      <td>PA</td>\n",
       "    </tr>\n",
       "    <tr>\n",
       "      <th>10826</th>\n",
       "      <td>4520 William Penn Hwy</td>\n",
       "      <td>{'BusinessAcceptsCreditCards': 'True'}</td>\n",
       "      <td>IxzYgn2qvvP-6v2vseAsRw</td>\n",
       "      <td>Auto Parts &amp; Supplies, Car Dealers, Automotive...</td>\n",
       "      <td>Monroeville</td>\n",
       "      <td>{'Monday': '9:0-21:0', 'Tuesday': '9:0-21:0', ...</td>\n",
       "      <td>1</td>\n",
       "      <td>40.438658</td>\n",
       "      <td>-79.748539</td>\n",
       "      <td>#1 Cochran Cadillac - Monroeville - 4520 Willi...</td>\n",
       "      <td>15146</td>\n",
       "      <td>9</td>\n",
       "      <td>3.5</td>\n",
       "      <td>PA</td>\n",
       "    </tr>\n",
       "    <tr>\n",
       "      <th>39188</th>\n",
       "      <td>7960 S Rainbow Blvd, Ste 8000G</td>\n",
       "      <td>{'RestaurantsReservations': 'False', 'GoodForM...</td>\n",
       "      <td>gA78_OGp1ekMvZWjRoBmFw</td>\n",
       "      <td>Restaurants, Hawaiian, Barbeque, Seafood</td>\n",
       "      <td>Las Vegas</td>\n",
       "      <td>{'Monday': '10:0-22:0', 'Tuesday': '10:0-22:0'...</td>\n",
       "      <td>1</td>\n",
       "      <td>36.043305</td>\n",
       "      <td>-115.243062</td>\n",
       "      <td>#1 Hawaiian Barbecue - 7960 S Rainbow Blvd, St...</td>\n",
       "      <td>89139</td>\n",
       "      <td>23</td>\n",
       "      <td>4.0</td>\n",
       "      <td>NV</td>\n",
       "    </tr>\n",
       "    <tr>\n",
       "      <th>105935</th>\n",
       "      <td>5905 S Eastern Ave, Ste 105</td>\n",
       "      <td>{'RestaurantsAttire': ''casual'', 'Restaurants...</td>\n",
       "      <td>42yLya7lhe7TQGz3KEdKAw</td>\n",
       "      <td>Restaurants, Hawaiian, Seafood, Barbeque</td>\n",
       "      <td>Las Vegas</td>\n",
       "      <td>{'Monday': '10:30-21:30', 'Tuesday': '10:30-21...</td>\n",
       "      <td>1</td>\n",
       "      <td>36.081920</td>\n",
       "      <td>-115.119526</td>\n",
       "      <td>#1 Hawaiian Barbecue - 5905 S Eastern Ave, Ste...</td>\n",
       "      <td>89119</td>\n",
       "      <td>40</td>\n",
       "      <td>3.5</td>\n",
       "      <td>NV</td>\n",
       "    </tr>\n",
       "    <tr>\n",
       "      <th>59511</th>\n",
       "      <td>917 Eagle Crest Dr</td>\n",
       "      <td>{'BusinessAcceptsCreditCards': 'True', 'ByAppo...</td>\n",
       "      <td>xSwZiSQxNHOnqQ70NExISg</td>\n",
       "      <td>Beauty &amp; Spas, Nail Salons</td>\n",
       "      <td>Madison</td>\n",
       "      <td>None</td>\n",
       "      <td>0</td>\n",
       "      <td>43.111316</td>\n",
       "      <td>-89.290819</td>\n",
       "      <td>007 Nails - 917 Eagle Crest Dr</td>\n",
       "      <td>53704</td>\n",
       "      <td>5</td>\n",
       "      <td>2.5</td>\n",
       "      <td>WI</td>\n",
       "    </tr>\n",
       "  </tbody>\n",
       "</table>\n",
       "</div>"
      ],
      "text/plain": [
       "                               address  \\\n",
       "90223            4520 William Penn Hwy   \n",
       "10826            4520 William Penn Hwy   \n",
       "39188   7960 S Rainbow Blvd, Ste 8000G   \n",
       "105935     5905 S Eastern Ave, Ste 105   \n",
       "59511               917 Eagle Crest Dr   \n",
       "\n",
       "                                               attributes  \\\n",
       "90223              {'BusinessAcceptsCreditCards': 'True'}   \n",
       "10826              {'BusinessAcceptsCreditCards': 'True'}   \n",
       "39188   {'RestaurantsReservations': 'False', 'GoodForM...   \n",
       "105935  {'RestaurantsAttire': ''casual'', 'Restaurants...   \n",
       "59511   {'BusinessAcceptsCreditCards': 'True', 'ByAppo...   \n",
       "\n",
       "                   business_id  \\\n",
       "90223   Z5kqhmXlKA_SDamQ5qwNGA   \n",
       "10826   IxzYgn2qvvP-6v2vseAsRw   \n",
       "39188   gA78_OGp1ekMvZWjRoBmFw   \n",
       "105935  42yLya7lhe7TQGz3KEdKAw   \n",
       "59511   xSwZiSQxNHOnqQ70NExISg   \n",
       "\n",
       "                                               categories         city  \\\n",
       "90223         Tires, Car Dealers, Automotive, Auto Repair  Monreoville   \n",
       "10826   Auto Parts & Supplies, Car Dealers, Automotive...  Monroeville   \n",
       "39188            Restaurants, Hawaiian, Barbeque, Seafood    Las Vegas   \n",
       "105935           Restaurants, Hawaiian, Seafood, Barbeque    Las Vegas   \n",
       "59511                          Beauty & Spas, Nail Salons      Madison   \n",
       "\n",
       "                                                    hours  is_open   latitude  \\\n",
       "90223   {'Monday': '9:0-21:0', 'Tuesday': '9:0-21:0', ...        1  40.437934   \n",
       "10826   {'Monday': '9:0-21:0', 'Tuesday': '9:0-21:0', ...        1  40.438658   \n",
       "39188   {'Monday': '10:0-22:0', 'Tuesday': '10:0-22:0'...        1  36.043305   \n",
       "105935  {'Monday': '10:30-21:30', 'Tuesday': '10:30-21...        1  36.081920   \n",
       "59511                                                None        0  43.111316   \n",
       "\n",
       "         longitude                                               name  \\\n",
       "90223   -79.745126  #1 Cochran Cadillac - Monroeville - 4520 Willi...   \n",
       "10826   -79.748539  #1 Cochran Cadillac - Monroeville - 4520 Willi...   \n",
       "39188  -115.243062  #1 Hawaiian Barbecue - 7960 S Rainbow Blvd, St...   \n",
       "105935 -115.119526  #1 Hawaiian Barbecue - 5905 S Eastern Ave, Ste...   \n",
       "59511   -89.290819                     007 Nails - 917 Eagle Crest Dr   \n",
       "\n",
       "       postal_code  review_count  stars state  \n",
       "90223        15146             9    3.5    PA  \n",
       "10826        15146             9    3.5    PA  \n",
       "39188        89139            23    4.0    NV  \n",
       "105935       89119            40    3.5    NV  \n",
       "59511        53704             5    2.5    WI  "
      ]
     },
     "execution_count": 74,
     "metadata": {},
     "output_type": "execute_result"
    }
   ],
   "source": [
    "duplicates.head()"
   ]
  },
  {
   "cell_type": "code",
   "execution_count": 75,
   "metadata": {},
   "outputs": [],
   "source": [
    "df_final = pd.concat([not_duplicates, duplicates])"
   ]
  },
  {
   "cell_type": "code",
   "execution_count": 76,
   "metadata": {},
   "outputs": [
    {
     "data": {
      "text/plain": [
       "(192609, 14)"
      ]
     },
     "execution_count": 76,
     "metadata": {},
     "output_type": "execute_result"
    }
   ],
   "source": [
    "df_final.shape"
   ]
  },
  {
   "cell_type": "code",
   "execution_count": 77,
   "metadata": {},
   "outputs": [],
   "source": [
    "df_names_f = pd.merge(new_ids, df_final, left_on=\"ID\", right_on=\"business_id\", how=\"left\")"
   ]
  },
  {
   "cell_type": "code",
   "execution_count": 78,
   "metadata": {},
   "outputs": [
    {
     "data": {
      "text/plain": [
       "(94435, 15)"
      ]
     },
     "execution_count": 78,
     "metadata": {},
     "output_type": "execute_result"
    }
   ],
   "source": [
    "df_names_f.shape"
   ]
  },
  {
   "cell_type": "code",
   "execution_count": 79,
   "metadata": {},
   "outputs": [],
   "source": [
    "df_names_f = df_names_f[['ID','name']]"
   ]
  },
  {
   "cell_type": "code",
   "execution_count": 80,
   "metadata": {},
   "outputs": [],
   "source": [
    "list_f = df_names_f['name'].tolist()"
   ]
  },
  {
   "cell_type": "code",
   "execution_count": 81,
   "metadata": {},
   "outputs": [],
   "source": [
    "ids_f = df_names_f['ID'].tolist()"
   ]
  },
  {
   "cell_type": "code",
   "execution_count": 82,
   "metadata": {},
   "outputs": [],
   "source": [
    "dict_f = creat_dic(list_f, ids_f)"
   ]
  },
  {
   "cell_type": "code",
   "execution_count": 83,
   "metadata": {},
   "outputs": [],
   "source": [
    "with open(\"dict_f.txt\", \"w\") as output:\n",
    "    output.write(str(dict_f))"
   ]
  },
  {
   "cell_type": "code",
   "execution_count": 84,
   "metadata": {},
   "outputs": [],
   "source": [
    "with open(\"names_f.txt\", \"w\") as output:\n",
    "    output.write(str(list_f))"
   ]
  },
  {
   "cell_type": "code",
   "execution_count": 85,
   "metadata": {},
   "outputs": [
    {
     "data": {
      "text/html": [
       "<div>\n",
       "<style scoped>\n",
       "    .dataframe tbody tr th:only-of-type {\n",
       "        vertical-align: middle;\n",
       "    }\n",
       "\n",
       "    .dataframe tbody tr th {\n",
       "        vertical-align: top;\n",
       "    }\n",
       "\n",
       "    .dataframe thead th {\n",
       "        text-align: right;\n",
       "    }\n",
       "</style>\n",
       "<table border=\"1\" class=\"dataframe\">\n",
       "  <thead>\n",
       "    <tr style=\"text-align: right;\">\n",
       "      <th></th>\n",
       "      <th>address</th>\n",
       "      <th>attributes</th>\n",
       "      <th>business_id</th>\n",
       "      <th>categories</th>\n",
       "      <th>city</th>\n",
       "      <th>hours</th>\n",
       "      <th>is_open</th>\n",
       "      <th>latitude</th>\n",
       "      <th>longitude</th>\n",
       "      <th>name</th>\n",
       "      <th>postal_code</th>\n",
       "      <th>review_count</th>\n",
       "      <th>stars</th>\n",
       "      <th>state</th>\n",
       "    </tr>\n",
       "  </thead>\n",
       "  <tbody>\n",
       "    <tr>\n",
       "      <th>3522</th>\n",
       "      <td>777 West Lake Mead Pkwy</td>\n",
       "      <td>{'BikeParking': 'True', 'BusinessParking': '{'...</td>\n",
       "      <td>vYu1_HnKIcj6_rhw3p4qYw</td>\n",
       "      <td>Coffee &amp; Tea, Food</td>\n",
       "      <td>Henderson</td>\n",
       "      <td>{'Monday': '7:0-21:0', 'Tuesday': '7:0-21:0', ...</td>\n",
       "      <td>1</td>\n",
       "      <td>36.031965</td>\n",
       "      <td>-115.009111</td>\n",
       "      <td>Starbucks - 777 West Lake Mead Pkwy</td>\n",
       "      <td>89015</td>\n",
       "      <td>17</td>\n",
       "      <td>2.5</td>\n",
       "      <td>NV</td>\n",
       "    </tr>\n",
       "  </tbody>\n",
       "</table>\n",
       "</div>"
      ],
      "text/plain": [
       "                      address  \\\n",
       "3522  777 West Lake Mead Pkwy   \n",
       "\n",
       "                                             attributes  \\\n",
       "3522  {'BikeParking': 'True', 'BusinessParking': '{'...   \n",
       "\n",
       "                 business_id          categories       city  \\\n",
       "3522  vYu1_HnKIcj6_rhw3p4qYw  Coffee & Tea, Food  Henderson   \n",
       "\n",
       "                                                  hours  is_open   latitude  \\\n",
       "3522  {'Monday': '7:0-21:0', 'Tuesday': '7:0-21:0', ...        1  36.031965   \n",
       "\n",
       "       longitude                                 name postal_code  \\\n",
       "3522 -115.009111  Starbucks - 777 West Lake Mead Pkwy       89015   \n",
       "\n",
       "      review_count  stars state  \n",
       "3522            17    2.5    NV  "
      ]
     },
     "execution_count": 85,
     "metadata": {},
     "output_type": "execute_result"
    }
   ],
   "source": [
    "df_final[df_final['name'] == 'Starbucks - 777 West Lake Mead Pkwy']"
   ]
  },
  {
   "cell_type": "code",
   "execution_count": 6,
   "metadata": {},
   "outputs": [],
   "source": [
    "role = get_execution_role()\n",
    "bucket='ds6-yelp-reviews'\n",
    "data_key6 = 'reviews_polarity.csv'\n",
    "data_location6 = 's3://{}/{}'.format(bucket, data_key6)\n",
    "\n",
    "df3 = pd.read_csv(data_location6)"
   ]
  },
  {
   "cell_type": "code",
   "execution_count": 7,
   "metadata": {},
   "outputs": [
    {
     "data": {
      "text/html": [
       "<div>\n",
       "<style scoped>\n",
       "    .dataframe tbody tr th:only-of-type {\n",
       "        vertical-align: middle;\n",
       "    }\n",
       "\n",
       "    .dataframe tbody tr th {\n",
       "        vertical-align: top;\n",
       "    }\n",
       "\n",
       "    .dataframe thead th {\n",
       "        text-align: right;\n",
       "    }\n",
       "</style>\n",
       "<table border=\"1\" class=\"dataframe\">\n",
       "  <thead>\n",
       "    <tr style=\"text-align: right;\">\n",
       "      <th></th>\n",
       "      <th>business_id</th>\n",
       "      <th>cool</th>\n",
       "      <th>date_time</th>\n",
       "      <th>funny</th>\n",
       "      <th>review_id</th>\n",
       "      <th>star_review</th>\n",
       "      <th>text</th>\n",
       "      <th>useful</th>\n",
       "      <th>user_id</th>\n",
       "      <th>tokens</th>\n",
       "      <th>date</th>\n",
       "      <th>polarity</th>\n",
       "    </tr>\n",
       "  </thead>\n",
       "  <tbody>\n",
       "    <tr>\n",
       "      <th>0</th>\n",
       "      <td>ujmEBvifdJM6h6RLv4wQIg</td>\n",
       "      <td>0</td>\n",
       "      <td>2013-05-07 04:34:36</td>\n",
       "      <td>1.0</td>\n",
       "      <td>Q1sbwvVQXV2734tPgoKj4Q</td>\n",
       "      <td>1.0</td>\n",
       "      <td>Total bill for this horrible service? Over $8G...</td>\n",
       "      <td>6.0</td>\n",
       "      <td>hG7b0MtEbXx5QzbzE6C_VA</td>\n",
       "      <td>['total', 'horrible', 'service', 'gs', 'crooks...</td>\n",
       "      <td>2013-05-07</td>\n",
       "      <td>-0.333333</td>\n",
       "    </tr>\n",
       "    <tr>\n",
       "      <th>1</th>\n",
       "      <td>ujmEBvifdJM6h6RLv4wQIg</td>\n",
       "      <td>0</td>\n",
       "      <td>2017-02-09 06:45:18</td>\n",
       "      <td>0.0</td>\n",
       "      <td>8Edv5pKe5lOBoN5UZTUI1w</td>\n",
       "      <td>4.0</td>\n",
       "      <td>My family has used this ER four times in the p...</td>\n",
       "      <td>0.0</td>\n",
       "      <td>RBXSJA372ilErzNwz0jXvQ</td>\n",
       "      <td>['family', 'er', 'times', 'past', 'years', 'pa...</td>\n",
       "      <td>2017-02-09</td>\n",
       "      <td>-0.007778</td>\n",
       "    </tr>\n",
       "    <tr>\n",
       "      <th>2</th>\n",
       "      <td>ujmEBvifdJM6h6RLv4wQIg</td>\n",
       "      <td>0</td>\n",
       "      <td>2018-08-14 05:25:33</td>\n",
       "      <td>0.0</td>\n",
       "      <td>kEs5u0cGPtiSQCLW7b0l9g</td>\n",
       "      <td>1.0</td>\n",
       "      <td>I have never been more disappointed by the car...</td>\n",
       "      <td>1.0</td>\n",
       "      <td>x3brMMbJrAW9PwW5A6YL5w</td>\n",
       "      <td>['disappointed', 'care', 'provided', 'mountain...</td>\n",
       "      <td>2018-08-14</td>\n",
       "      <td>-0.138333</td>\n",
       "    </tr>\n",
       "    <tr>\n",
       "      <th>3</th>\n",
       "      <td>ujmEBvifdJM6h6RLv4wQIg</td>\n",
       "      <td>0</td>\n",
       "      <td>2018-05-08 19:27:59</td>\n",
       "      <td>0.0</td>\n",
       "      <td>Pm6qydbW58BB0zdWCPlBmg</td>\n",
       "      <td>1.0</td>\n",
       "      <td>Went in for a broken finger, was asked if I wa...</td>\n",
       "      <td>3.0</td>\n",
       "      <td>Skzdl0sWhW88525a1vr59g</td>\n",
       "      <td>['went', 'broken', 'finger', 'asked', 'pain', ...</td>\n",
       "      <td>2018-05-08</td>\n",
       "      <td>-0.079384</td>\n",
       "    </tr>\n",
       "    <tr>\n",
       "      <th>4</th>\n",
       "      <td>ujmEBvifdJM6h6RLv4wQIg</td>\n",
       "      <td>0</td>\n",
       "      <td>2014-10-11 06:57:18</td>\n",
       "      <td>0.0</td>\n",
       "      <td>QWJVYwNxUY_Plu4Ipz33_A</td>\n",
       "      <td>5.0</td>\n",
       "      <td>My mother was at Mountain View for nearly two ...</td>\n",
       "      <td>1.0</td>\n",
       "      <td>3Y25VDfnQVcuc33T-U3Z6A</td>\n",
       "      <td>['mother', 'mountain', 'view', 'nearly', 'week...</td>\n",
       "      <td>2014-10-11</td>\n",
       "      <td>0.342667</td>\n",
       "    </tr>\n",
       "  </tbody>\n",
       "</table>\n",
       "</div>"
      ],
      "text/plain": [
       "              business_id  cool            date_time  funny  \\\n",
       "0  ujmEBvifdJM6h6RLv4wQIg     0  2013-05-07 04:34:36    1.0   \n",
       "1  ujmEBvifdJM6h6RLv4wQIg     0  2017-02-09 06:45:18    0.0   \n",
       "2  ujmEBvifdJM6h6RLv4wQIg     0  2018-08-14 05:25:33    0.0   \n",
       "3  ujmEBvifdJM6h6RLv4wQIg     0  2018-05-08 19:27:59    0.0   \n",
       "4  ujmEBvifdJM6h6RLv4wQIg     0  2014-10-11 06:57:18    0.0   \n",
       "\n",
       "                review_id  star_review  \\\n",
       "0  Q1sbwvVQXV2734tPgoKj4Q          1.0   \n",
       "1  8Edv5pKe5lOBoN5UZTUI1w          4.0   \n",
       "2  kEs5u0cGPtiSQCLW7b0l9g          1.0   \n",
       "3  Pm6qydbW58BB0zdWCPlBmg          1.0   \n",
       "4  QWJVYwNxUY_Plu4Ipz33_A          5.0   \n",
       "\n",
       "                                                text  useful  \\\n",
       "0  Total bill for this horrible service? Over $8G...     6.0   \n",
       "1  My family has used this ER four times in the p...     0.0   \n",
       "2  I have never been more disappointed by the car...     1.0   \n",
       "3  Went in for a broken finger, was asked if I wa...     3.0   \n",
       "4  My mother was at Mountain View for nearly two ...     1.0   \n",
       "\n",
       "                  user_id                                             tokens  \\\n",
       "0  hG7b0MtEbXx5QzbzE6C_VA  ['total', 'horrible', 'service', 'gs', 'crooks...   \n",
       "1  RBXSJA372ilErzNwz0jXvQ  ['family', 'er', 'times', 'past', 'years', 'pa...   \n",
       "2  x3brMMbJrAW9PwW5A6YL5w  ['disappointed', 'care', 'provided', 'mountain...   \n",
       "3  Skzdl0sWhW88525a1vr59g  ['went', 'broken', 'finger', 'asked', 'pain', ...   \n",
       "4  3Y25VDfnQVcuc33T-U3Z6A  ['mother', 'mountain', 'view', 'nearly', 'week...   \n",
       "\n",
       "         date  polarity  \n",
       "0  2013-05-07 -0.333333  \n",
       "1  2017-02-09 -0.007778  \n",
       "2  2018-08-14 -0.138333  \n",
       "3  2018-05-08 -0.079384  \n",
       "4  2014-10-11  0.342667  "
      ]
     },
     "execution_count": 7,
     "metadata": {},
     "output_type": "execute_result"
    }
   ],
   "source": [
    "df3.head()"
   ]
  },
  {
   "cell_type": "code",
   "execution_count": 5,
   "metadata": {},
   "outputs": [
    {
     "data": {
      "text/plain": [
       "'Specialty Food'"
      ]
     },
     "execution_count": 5,
     "metadata": {},
     "output_type": "execute_result"
    }
   ],
   "source": [
    "df['categories'].iloc[1].split(',')[0]"
   ]
  },
  {
   "cell_type": "code",
   "execution_count": null,
   "metadata": {},
   "outputs": [],
   "source": []
  }
 ],
 "metadata": {
  "kernelspec": {
   "display_name": "conda_tensorflow_p36",
   "language": "python",
   "name": "conda_tensorflow_p36"
  },
  "language_info": {
   "codemirror_mode": {
    "name": "ipython",
    "version": 3
   },
   "file_extension": ".py",
   "mimetype": "text/x-python",
   "name": "python",
   "nbconvert_exporter": "python",
   "pygments_lexer": "ipython3",
   "version": "3.6.5"
  }
 },
 "nbformat": 4,
 "nbformat_minor": 4
}
